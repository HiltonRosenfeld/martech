{
 "cells": [
  {
   "cell_type": "markdown",
   "metadata": {},
   "source": [
    "## Astra Schema"
   ]
  },
  {
   "cell_type": "markdown",
   "metadata": {},
   "source": [
    "### Initialise Connection"
   ]
  },
  {
   "cell_type": "code",
   "execution_count": 1,
   "metadata": {},
   "outputs": [],
   "source": [
    "from astra_db import AstraSession\n",
    "\n",
    "session = AstraSession().session"
   ]
  },
  {
   "cell_type": "markdown",
   "metadata": {},
   "source": [
    "## Schema"
   ]
  },
  {
   "cell_type": "markdown",
   "metadata": {},
   "source": [
    "### Create Tables"
   ]
  },
  {
   "cell_type": "code",
   "execution_count": 2,
   "metadata": {},
   "outputs": [
    {
     "data": {
      "text/plain": [
       "<cassandra.cluster.ResultSet at 0x10653a570>"
      ]
     },
     "execution_count": 2,
     "metadata": {},
     "output_type": "execute_result"
    }
   ],
   "source": [
    "#\n",
    "# Communications Table\n",
    "#\n",
    "session.execute(\n",
    "    \"\"\"\n",
    "    CREATE TABLE IF NOT EXISTS communications (\n",
    "    communication_id TEXT,\n",
    "    comm_date DATE, \n",
    "    comm_hour INT, \n",
    "    customer_id TEXT, \n",
    "    channel TEXT, \n",
    "    category_group TEXT, \n",
    "    category TEXT, \n",
    "    activity_name TEXT, \n",
    "    PRIMARY KEY ((communication_id), comm_date, comm_hour) );\n",
    "    \"\"\"\n",
    ")"
   ]
  },
  {
   "cell_type": "markdown",
   "metadata": {},
   "source": [
    "### Create Counters"
   ]
  },
  {
   "cell_type": "code",
   "execution_count": 3,
   "metadata": {},
   "outputs": [
    {
     "data": {
      "text/plain": [
       "<cassandra.cluster.ResultSet at 0x10656eed0>"
      ]
     },
     "execution_count": 3,
     "metadata": {},
     "output_type": "execute_result"
    }
   ],
   "source": [
    "#\n",
    "# PROFILECAP - customer_id, channel\n",
    "#\n",
    "session.execute(\n",
    "    \"\"\"\n",
    "    CREATE TABLE IF NOT EXISTS profile_cap (\n",
    "    customer_id TEXT,\n",
    "    channel TEXT,\n",
    "    comm_date DATE,\n",
    "    comm_hour INT,\n",
    "    count counter,\n",
    "    PRIMARY KEY ((customer_id, channel), comm_date, comm_hour) );\n",
    "    \"\"\"\n",
    ")"
   ]
  },
  {
   "cell_type": "code",
   "execution_count": 4,
   "metadata": {},
   "outputs": [
    {
     "data": {
      "text/plain": [
       "<cassandra.cluster.ResultSet at 0x10653b4a0>"
      ]
     },
     "execution_count": 4,
     "metadata": {},
     "output_type": "execute_result"
    }
   ],
   "source": [
    "#\n",
    "# ACTYCAP - activity_name\n",
    "#\n",
    "session.execute(\n",
    "    \"\"\"\n",
    "    CREATE TABLE IF NOT EXISTS acty_cap (\n",
    "    activity_name TEXT,\n",
    "    comm_date DATE,\n",
    "    comm_hour INT,\n",
    "    count counter,\n",
    "    PRIMARY KEY ((activity_name), comm_date, comm_hour) );\n",
    "    \"\"\"\n",
    ")"
   ]
  },
  {
   "cell_type": "code",
   "execution_count": 5,
   "metadata": {},
   "outputs": [
    {
     "data": {
      "text/plain": [
       "<cassandra.cluster.ResultSet at 0x105f5f0b0>"
      ]
     },
     "execution_count": 5,
     "metadata": {},
     "output_type": "execute_result"
    }
   ],
   "source": [
    "#\n",
    "# PRTYCAP - category_group, category\n",
    "#\n",
    "session.execute(\n",
    "    \"\"\"\n",
    "    CREATE TABLE IF NOT EXISTS prty_cap (\n",
    "    category_group TEXT,\n",
    "    category TEXT,\n",
    "    comm_date DATE,\n",
    "    comm_hour INT,\n",
    "    count counter,\n",
    "    PRIMARY KEY ((category_group, category), comm_date, comm_hour) );\n",
    "    \"\"\"\n",
    ")"
   ]
  },
  {
   "cell_type": "code",
   "execution_count": 6,
   "metadata": {},
   "outputs": [
    {
     "data": {
      "text/plain": [
       "<cassandra.cluster.ResultSet at 0x1082b1190>"
      ]
     },
     "execution_count": 6,
     "metadata": {},
     "output_type": "execute_result"
    }
   ],
   "source": [
    "#\n",
    "# CHANNELCAP - channel\n",
    "#\n",
    "session.execute(\n",
    "    \"\"\"\n",
    "    CREATE TABLE IF NOT EXISTS channel_cap (\n",
    "    channel TEXT,\n",
    "    comm_date DATE,\n",
    "    comm_hour INT,\n",
    "    count counter,\n",
    "    PRIMARY KEY ((channel), comm_date, comm_hour) );\n",
    "    \"\"\"\n",
    ")"
   ]
  },
  {
   "cell_type": "code",
   "execution_count": null,
   "metadata": {},
   "outputs": [],
   "source": []
  }
 ],
 "metadata": {
  "kernelspec": {
   "display_name": "env_vectorgraph",
   "language": "python",
   "name": "python3"
  },
  "language_info": {
   "codemirror_mode": {
    "name": "ipython",
    "version": 3
   },
   "file_extension": ".py",
   "mimetype": "text/x-python",
   "name": "python",
   "nbconvert_exporter": "python",
   "pygments_lexer": "ipython3",
   "version": "3.12.5"
  }
 },
 "nbformat": 4,
 "nbformat_minor": 2
}
