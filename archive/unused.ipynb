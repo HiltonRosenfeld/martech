{
 "cells": [
  {
   "cell_type": "markdown",
   "metadata": {},
   "source": [
    "## Initialise Connection"
   ]
  },
  {
   "cell_type": "code",
   "execution_count": 1,
   "metadata": {},
   "outputs": [],
   "source": [
    "from astra_db import AstraSession\n",
    "session = AstraSession().session"
   ]
  },
  {
   "cell_type": "markdown",
   "metadata": {},
   "source": [
    "## Define DB Functions"
   ]
  },
  {
   "cell_type": "code",
   "execution_count": 7,
   "metadata": {},
   "outputs": [],
   "source": [
    "#\n",
    "# Communications Table\n",
    "#\n",
    "\n",
    "# communication_id: UUID.\n",
    "# comm_date: Integer epoch OR a date string (eg '2011-02-27').\n",
    "# comm_hour: Integer hour (0-23).\n",
    "\n",
    "def insert_communication(communication_id, comm_date, comm_hour, customer_id, channel, category_group, category, activity_name):\n",
    "    session.execute(\n",
    "        \"\"\"\n",
    "        INSERT INTO communications (communication_id, comm_date, comm_hour, customer_id, channel, category_group, category, activity_name)\n",
    "        VALUES (%s, %s, %s, %s, %s, %s, %s, %s)\n",
    "        \"\"\",\n",
    "        (communication_id, comm_date, comm_hour, customer_id, channel, category_group, category, activity_name)\n",
    "    )"
   ]
  },
  {
   "cell_type": "code",
   "execution_count": 8,
   "metadata": {},
   "outputs": [],
   "source": [
    "#\n",
    "# PROFILECAP\n",
    "#\n",
    "\n",
    "def update_profile_cap(customer_id, channel, comm_date, comm_hour):\n",
    "    session.execute(\n",
    "        \"\"\"\n",
    "        UPDATE profile_cap SET count = count + 1 \n",
    "        WHERE customer_id = %s AND channel = %s AND comm_date = %s AND comm_hour = %s\n",
    "        \"\"\",\n",
    "        (customer_id, channel, comm_date, comm_hour)\n",
    "    )"
   ]
  },
  {
   "cell_type": "code",
   "execution_count": 9,
   "metadata": {},
   "outputs": [],
   "source": [
    "#\n",
    "# ACTYCAP\n",
    "#\n",
    "\n",
    "def update_acty_cap(activity_name, comm_date, comm_hour):\n",
    "    session.execute(\n",
    "        \"\"\"\n",
    "        UPDATE acty_cap SET count = count + 1 \n",
    "        WHERE activity_name = %s AND comm_date = %s AND comm_hour = %s\n",
    "        \"\"\",\n",
    "        (activity_name, comm_date, comm_hour)\n",
    "    )"
   ]
  },
  {
   "cell_type": "code",
   "execution_count": 10,
   "metadata": {},
   "outputs": [],
   "source": [
    "#\n",
    "# PRTYCAP\n",
    "#\n",
    "\n",
    "def update_prty_cap(category_group, category, comm_date, comm_hour):\n",
    "    session.execute(\n",
    "        \"\"\"\n",
    "        UPDATE prty_cap SET count = count + 1 \n",
    "        WHERE category_group = %s AND category = %s AND comm_date = %s AND comm_hour = %s\n",
    "        \"\"\",\n",
    "        (category_group, category, comm_date, comm_hour)\n",
    "    )"
   ]
  },
  {
   "cell_type": "code",
   "execution_count": 11,
   "metadata": {},
   "outputs": [],
   "source": [
    "#\n",
    "# CHANNELCAP\n",
    "#\n",
    "\n",
    "def update_channel_cap(channel, comm_date, comm_hour):\n",
    "    session.execute(\n",
    "        \"\"\"\n",
    "        UPDATE channel_cap SET count = count + 1 \n",
    "        WHERE channel = %s AND comm_date = %s AND comm_hour = %s\n",
    "        \"\"\",\n",
    "        (channel, comm_date, comm_hour)\n",
    "    )"
   ]
  }
 ],
 "metadata": {
  "kernelspec": {
   "display_name": "env_vectorgraph",
   "language": "python",
   "name": "python3"
  },
  "language_info": {
   "codemirror_mode": {
    "name": "ipython",
    "version": 3
   },
   "file_extension": ".py",
   "mimetype": "text/x-python",
   "name": "python",
   "nbconvert_exporter": "python",
   "pygments_lexer": "ipython3",
   "version": "3.12.5"
  }
 },
 "nbformat": 4,
 "nbformat_minor": 2
}
