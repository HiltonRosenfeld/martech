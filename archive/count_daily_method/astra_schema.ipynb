{
 "cells": [
  {
   "cell_type": "markdown",
   "metadata": {},
   "source": [
    "## Astra Schema"
   ]
  },
  {
   "cell_type": "markdown",
   "metadata": {},
   "source": [
    "### Initialise Connection"
   ]
  },
  {
   "cell_type": "code",
   "execution_count": 1,
   "metadata": {},
   "outputs": [],
   "source": [
    "from astra_db import AstraSession\n",
    "\n",
    "session = AstraSession().session"
   ]
  },
  {
   "cell_type": "markdown",
   "metadata": {},
   "source": [
    "## Schema"
   ]
  },
  {
   "cell_type": "markdown",
   "metadata": {},
   "source": [
    "### Create Tables"
   ]
  },
  {
   "cell_type": "code",
   "execution_count": 3,
   "metadata": {},
   "outputs": [
    {
     "data": {
      "text/plain": [
       "<cassandra.cluster.ResultSet at 0x10c39ec30>"
      ]
     },
     "execution_count": 3,
     "metadata": {},
     "output_type": "execute_result"
    }
   ],
   "source": [
    "#\n",
    "# Communications Table\n",
    "#\n",
    "session.execute(\n",
    "    \"\"\"\n",
    "    CREATE TABLE IF NOT EXISTS communications (\n",
    "    communication_id TEXT,\n",
    "    comm_date TIMESTAMP,\n",
    "    customer_id TEXT,\n",
    "    channel TEXT,\n",
    "    category_group TEXT,\n",
    "    category TEXT,\n",
    "    activity_name TEXT,\n",
    "    PRIMARY KEY ((communication_id), comm_date) );\n",
    "    \"\"\"\n",
    ")"
   ]
  },
  {
   "cell_type": "markdown",
   "metadata": {},
   "source": [
    "### Create CAP Tables"
   ]
  },
  {
   "cell_type": "code",
   "execution_count": 4,
   "metadata": {},
   "outputs": [
    {
     "data": {
      "text/plain": [
       "<cassandra.cluster.ResultSet at 0x10c8226f0>"
      ]
     },
     "execution_count": 4,
     "metadata": {},
     "output_type": "execute_result"
    }
   ],
   "source": [
    "#\n",
    "# PROFILECAP - customer_id, channel\n",
    "# # 20250205\n",
    "#\n",
    "session.execute(\n",
    "    \"\"\"\n",
    "    CREATE TABLE IF NOT EXISTS profile_cap (\n",
    "    communication_id TEXT,\n",
    "    customer_id TEXT,\n",
    "    channel TEXT,\n",
    "    comm_date_bucket INT,\n",
    "    PRIMARY KEY ((customer_id, channel, comm_date_bucket), communication_id) );\n",
    "    \"\"\"\n",
    ")"
   ]
  },
  {
   "cell_type": "code",
   "execution_count": 5,
   "metadata": {},
   "outputs": [
    {
     "data": {
      "text/plain": [
       "<cassandra.cluster.ResultSet at 0x10c758d40>"
      ]
     },
     "execution_count": 5,
     "metadata": {},
     "output_type": "execute_result"
    }
   ],
   "source": [
    "#\n",
    "# ACTYCAP - activity_name\n",
    "# 20250130\n",
    "# \n",
    "session.execute(\n",
    "    \"\"\"\n",
    "    CREATE TABLE IF NOT EXISTS acty_cap (\n",
    "    communication_id TEXT,\n",
    "    activity_name TEXT,\n",
    "    comm_date_bucket INT,\n",
    "    PRIMARY KEY ((activity_name, comm_date_bucket), communication_id) );\n",
    "    \"\"\"\n",
    ")"
   ]
  },
  {
   "cell_type": "code",
   "execution_count": 6,
   "metadata": {},
   "outputs": [
    {
     "data": {
      "text/plain": [
       "<cassandra.cluster.ResultSet at 0x10c778b60>"
      ]
     },
     "execution_count": 6,
     "metadata": {},
     "output_type": "execute_result"
    }
   ],
   "source": [
    "#\n",
    "# PRTYCAP - category_group, category\n",
    "#\n",
    "session.execute(\n",
    "    \"\"\"\n",
    "    CREATE TABLE IF NOT EXISTS prty_cap (\n",
    "    communication_id TEXT,\n",
    "    category_group TEXT,\n",
    "    category TEXT,\n",
    "    comm_date_bucket INT,\n",
    "    PRIMARY KEY ((category_group, category, comm_date_bucket), communication_id) );\n",
    "    \"\"\"\n",
    ")"
   ]
  },
  {
   "cell_type": "code",
   "execution_count": 7,
   "metadata": {},
   "outputs": [
    {
     "data": {
      "text/plain": [
       "<cassandra.cluster.ResultSet at 0x10e440da0>"
      ]
     },
     "execution_count": 7,
     "metadata": {},
     "output_type": "execute_result"
    }
   ],
   "source": [
    "#\n",
    "# CHANNELCAP - channel\n",
    "#\n",
    "session.execute(\n",
    "    \"\"\"\n",
    "    CREATE TABLE IF NOT EXISTS channel_cap (\n",
    "    communication_id TEXT,\n",
    "    channel TEXT,\n",
    "    comm_date_bucket INT,\n",
    "    PRIMARY KEY ((channel, comm_date_bucket), communication_id) );\n",
    "    \"\"\"\n",
    ")"
   ]
  },
  {
   "cell_type": "markdown",
   "metadata": {},
   "source": [
    "## Drop Schema"
   ]
  },
  {
   "cell_type": "code",
   "execution_count": 2,
   "metadata": {},
   "outputs": [
    {
     "data": {
      "text/plain": [
       "<cassandra.cluster.ResultSet at 0x10e4408c0>"
      ]
     },
     "execution_count": 2,
     "metadata": {},
     "output_type": "execute_result"
    }
   ],
   "source": [
    "session.execute(\"DROP TABLE IF EXISTS communications\")\n",
    "session.execute(\"DROP TABLE IF EXISTS profile_cap\")\n",
    "session.execute(\"DROP TABLE IF EXISTS acty_cap\")\n",
    "session.execute(\"DROP TABLE IF EXISTS prty_cap\")\n",
    "session.execute(\"DROP TABLE IF EXISTS channel_cap\")"
   ]
  },
  {
   "cell_type": "code",
   "execution_count": null,
   "metadata": {},
   "outputs": [],
   "source": []
  }
 ],
 "metadata": {
  "kernelspec": {
   "display_name": "env_vectorgraph",
   "language": "python",
   "name": "python3"
  },
  "language_info": {
   "codemirror_mode": {
    "name": "ipython",
    "version": 3
   },
   "file_extension": ".py",
   "mimetype": "text/x-python",
   "name": "python",
   "nbconvert_exporter": "python",
   "pygments_lexer": "ipython3",
   "version": "3.12.5"
  }
 },
 "nbformat": 4,
 "nbformat_minor": 2
}
