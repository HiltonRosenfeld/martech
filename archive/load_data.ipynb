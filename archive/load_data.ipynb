{
 "cells": [
  {
   "cell_type": "markdown",
   "metadata": {},
   "source": [
    "# Martech - Load Data"
   ]
  },
  {
   "cell_type": "markdown",
   "metadata": {},
   "source": [
    "## Initialise Connection"
   ]
  },
  {
   "cell_type": "code",
   "execution_count": 1,
   "metadata": {},
   "outputs": [],
   "source": [
    "from astra_db import AstraSession\n",
    "from cassandra import ConsistencyLevel\n",
    "\n",
    "session = AstraSession().session"
   ]
  },
  {
   "cell_type": "markdown",
   "metadata": {},
   "source": [
    "## Define Prepared Statements"
   ]
  },
  {
   "cell_type": "markdown",
   "metadata": {},
   "source": [
    "### Communications Table"
   ]
  },
  {
   "cell_type": "code",
   "execution_count": 2,
   "metadata": {},
   "outputs": [],
   "source": [
    "# Communications Table\n",
    "\n",
    "# communication_id: UUID.\n",
    "# comm_date: Integer epoch OR a date string (eg '2011-02-27').\n",
    "# comm_hour: Integer hour (0-23).\n",
    "\n",
    "insert_communication_stmt = session.prepare(\"INSERT INTO communications (communication_id, comm_date, comm_hour, customer_id, channel, category_group, category, activity_name) VALUES (?, ?, ?, ?, ?, ?, ?, ?)\")\n",
    "insert_communication_stmt.consistency_level = ConsistencyLevel.ALL"
   ]
  },
  {
   "cell_type": "markdown",
   "metadata": {},
   "source": [
    "### PROFILECAP"
   ]
  },
  {
   "cell_type": "code",
   "execution_count": 3,
   "metadata": {},
   "outputs": [],
   "source": [
    "# PROFILECAP\n",
    "\n",
    "update_profile_cap_stmt = session.prepare(\"UPDATE profile_cap SET count = count + 1 WHERE customer_id = ? AND channel = ? AND comm_date = ? AND comm_hour = ?\")\n",
    "update_profile_cap_stmt.consistency_level = ConsistencyLevel.ALL"
   ]
  },
  {
   "cell_type": "markdown",
   "metadata": {},
   "source": [
    "### ACTYCAP"
   ]
  },
  {
   "cell_type": "code",
   "execution_count": 4,
   "metadata": {},
   "outputs": [],
   "source": [
    "# ACTYCAP\n",
    "\n",
    "update_acty_cap_stmt = session.prepare(\"UPDATE acty_cap SET count = count + 1 WHERE activity_name = ? AND comm_date = ? AND comm_hour = ?\")\n",
    "update_acty_cap_stmt.consistency_level = ConsistencyLevel.ALL"
   ]
  },
  {
   "cell_type": "markdown",
   "metadata": {},
   "source": [
    "### PRTYCAP"
   ]
  },
  {
   "cell_type": "code",
   "execution_count": 5,
   "metadata": {},
   "outputs": [],
   "source": [
    "# PRTYCAP\n",
    "\n",
    "update_prty_cap_stmt = session.prepare(\"UPDATE prty_cap SET count = count + 1 WHERE category_group = ? AND category = ? AND comm_date = ? AND comm_hour = ?\")\n",
    "update_prty_cap_stmt.consistency_level = ConsistencyLevel.ALL"
   ]
  },
  {
   "cell_type": "markdown",
   "metadata": {},
   "source": [
    "### CHANNELCAP"
   ]
  },
  {
   "cell_type": "code",
   "execution_count": 6,
   "metadata": {},
   "outputs": [],
   "source": [
    "# CHANNELCAP\n",
    "\n",
    "update_channel_cap_stmt = session.prepare(\"UPDATE channel_cap SET count = count + 1 WHERE channel = ? AND comm_date = ? AND comm_hour = ?\")\n",
    "update_channel_cap_stmt.consistency_level = ConsistencyLevel.ALL"
   ]
  },
  {
   "cell_type": "markdown",
   "metadata": {},
   "source": [
    "## Load Data"
   ]
  },
  {
   "cell_type": "markdown",
   "metadata": {},
   "source": [
    "### Define Entities"
   ]
  },
  {
   "cell_type": "code",
   "execution_count": 7,
   "metadata": {},
   "outputs": [],
   "source": [
    "# Define Entities\n",
    "\n",
    "import uuid\n",
    "import random\n",
    "\n",
    "# customer_id\n",
    "customer_id_array = []\n",
    "for i in range(0, 10):\n",
    "    customer_id_array.append(str(uuid.uuid4()))\n",
    "\n",
    "# channel\n",
    "channel_array = ['email', 'sms', 'push', 'in-app', 'direct']\n",
    "\n",
    "# category_group\n",
    "category_group_array = ['ctgy_grp_1', 'ctgy_grp_2', 'ctgy_grp_3', 'ctgy_grp_4', 'ctgy_grp_5']\n",
    "\n",
    "# category\n",
    "category_array = ['ctgy_1', 'ctgy_2', 'ctgy_3', 'ctgy_4', 'ctgy_5']\n",
    "\n",
    "# activity_name\n",
    "activity_name_array = ['credit_card', 'mortgage', 'business', 'retail', 'investment']\n"
   ]
  },
  {
   "cell_type": "code",
   "execution_count": null,
   "metadata": {},
   "outputs": [],
   "source": [
    "# iterate over month\n",
    "for day in range(1, 31):\n",
    "    # generate date\n",
    "    comm_date = f\"2024-12-{day}\"\n",
    "    print()\n",
    "    print(f\"{comm_date} - \", end='')\n",
    "\n",
    "    # iterate over hour\n",
    "    for hour in range(0, 24):\n",
    "        print(f\"{hour} \", end='')\n",
    "\n",
    "        # generate values\n",
    "        comm_id = str(uuid.uuid4())\n",
    "        customer_id = customer_id_array[random.randint(0, 9)]\n",
    "        channel = channel_array[random.randint(0, 4)]\n",
    "        category_group = category_group_array[random.randint(0, 4)]\n",
    "        category = category_array[random.randint(0, 4)]\n",
    "        activity_name = activity_name_array[random.randint(0, 4)]\n",
    "\n",
    "        # insert communication\n",
    "        session.execute(\n",
    "            insert_communication_stmt, \n",
    "            (comm_id, comm_date, hour, customer_id, channel, category_group, category, activity_name)\n",
    "        )\n",
    "\n",
    "        # Update Profile Cap\n",
    "        session.execute(\n",
    "            update_profile_cap_stmt, \n",
    "            (customer_id, channel, comm_date, hour)\n",
    "        )\n",
    "\n",
    "        # Update Acty Cap\n",
    "        session.execute(\n",
    "            update_acty_cap_stmt, \n",
    "            (activity_name, comm_date, hour)\n",
    "        )\n",
    "\n",
    "        # Update Prty Cap\n",
    "        session.execute(\n",
    "            update_prty_cap_stmt, \n",
    "            (category_group, category, comm_date, hour)\n",
    "        )\n",
    "\n",
    "        # Update Channel Cap\n",
    "        session.execute(\n",
    "            update_channel_cap_stmt, \n",
    "            (channel, comm_date, hour)\n",
    "        )"
   ]
  },
  {
   "cell_type": "markdown",
   "metadata": {},
   "source": [
    "## Query Data"
   ]
  },
  {
   "cell_type": "markdown",
   "metadata": {},
   "source": [
    "### PROFILECAP"
   ]
  },
  {
   "cell_type": "code",
   "execution_count": 47,
   "metadata": {},
   "outputs": [],
   "source": [
    "rows = session.execute(\n",
    "    \"SELECT sum(count) from profile_cap WHERE customer_id='59d7ebd4-317f-4b28-b16a-bcee264f055a' and channel='push' AND comm_date > '2024-12-01' AND comm_date < '2024-12-31'\"\n",
    ")"
   ]
  },
  {
   "cell_type": "code",
   "execution_count": null,
   "metadata": {},
   "outputs": [],
   "source": [
    "data = rows[0]\n",
    "print(data.system_sum_count)"
   ]
  },
  {
   "cell_type": "code",
   "execution_count": null,
   "metadata": {},
   "outputs": [],
   "source": []
  }
 ],
 "metadata": {
  "kernelspec": {
   "display_name": "env_vectorgraph",
   "language": "python",
   "name": "python3"
  },
  "language_info": {
   "codemirror_mode": {
    "name": "ipython",
    "version": 3
   },
   "file_extension": ".py",
   "mimetype": "text/x-python",
   "name": "python",
   "nbconvert_exporter": "python",
   "pygments_lexer": "ipython3",
   "version": "3.12.5"
  }
 },
 "nbformat": 4,
 "nbformat_minor": 2
}
