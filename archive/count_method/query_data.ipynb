{
 "cells": [
  {
   "cell_type": "markdown",
   "metadata": {},
   "source": [
    "# Martech - Query Data"
   ]
  },
  {
   "cell_type": "markdown",
   "metadata": {},
   "source": [
    "## Initialise Connection"
   ]
  },
  {
   "cell_type": "code",
   "execution_count": 1,
   "metadata": {},
   "outputs": [],
   "source": [
    "from astra_db import AstraSession\n",
    "\n",
    "astra = AstraSession()\n",
    "astra.prepare_statements()"
   ]
  },
  {
   "cell_type": "markdown",
   "metadata": {},
   "source": [
    "## Define Entities"
   ]
  },
  {
   "cell_type": "code",
   "execution_count": 19,
   "metadata": {},
   "outputs": [],
   "source": [
    "# Define Entities\n",
    "\n",
    "# customer_id\n",
    "customer_id_array = [\n",
    "    '0b6ec30f-8b1a-406f-82f6-89222a017449',\n",
    "    '8435a9b9-9e88-495c-a297-dfd25d44428b',\n",
    "    '8e12d570-e47d-43b9-9435-b2020899860b',\n",
    "    '9e53cd14-0316-46ff-b913-30228fcc5b73',\n",
    "    'a6e198e0-674d-4a27-ba01-595a78fda2ef',\n",
    "    'af9e65bd-4474-40c9-8d16-7b82035d3e0f',\n",
    "    'b191cef3-4624-4e88-9a93-73de506e4be7',\n",
    "    'bcabe5dd-8675-4a88-94ed-a9faa9473355',\n",
    "    'cf3a5d68-e66f-4ee7-a2d1-2666c5366540',\n",
    "    'f68e8bc9-86b7-4c8e-ba74-87d31d27a531',\n",
    "    'bcabe5dd-8675-4a88-94ed-a9faa9473355',\n",
    "]\n",
    "\n",
    "# channel\n",
    "channel_array = ['email', 'sms', 'push', 'in-app', 'direct']\n",
    "\n",
    "# category_group\n",
    "category_group_array = ['ctgy_grp_1', 'ctgy_grp_2', 'ctgy_grp_3', 'ctgy_grp_4', 'ctgy_grp_5']\n",
    "\n",
    "# category\n",
    "category_array = ['ctgy_1', 'ctgy_2', 'ctgy_3', 'ctgy_4', 'ctgy_5']\n",
    "\n",
    "# activity_name\n",
    "activity_name_array = ['credit_card', 'mortgage', 'business', 'retail', 'investment']"
   ]
  },
  {
   "cell_type": "markdown",
   "metadata": {},
   "source": [
    "## Query Data"
   ]
  },
  {
   "cell_type": "code",
   "execution_count": 22,
   "metadata": {},
   "outputs": [],
   "source": [
    "start_date = '2025010201'\n",
    "end_date = '2025010223'"
   ]
  },
  {
   "cell_type": "markdown",
   "metadata": {},
   "source": [
    "### PROFILECAP"
   ]
  },
  {
   "cell_type": "code",
   "execution_count": null,
   "metadata": {},
   "outputs": [],
   "source": [
    "# comm_date_bucket - yyyymmddhh - 2024120100\n",
    "rows = astra.session.execute(astra.get_profile_cap_stmt, [customer_id_array[0], 'email', start_date, end_date])\n",
    "print(rows[0].system_sum_count)"
   ]
  },
  {
   "cell_type": "markdown",
   "metadata": {},
   "source": [
    "### ACTYCAP"
   ]
  },
  {
   "cell_type": "code",
   "execution_count": null,
   "metadata": {},
   "outputs": [],
   "source": [
    "# comm_date_bucket - yyyymmddhh - 2024120100\n",
    "rows = astra.session.execute(astra.get_acty_cap_stmt, ['credit_card', start_date, end_date])\n",
    "print(rows[0].system_sum_count)"
   ]
  },
  {
   "cell_type": "markdown",
   "metadata": {},
   "source": [
    "### PRTYCAP"
   ]
  },
  {
   "cell_type": "code",
   "execution_count": null,
   "metadata": {},
   "outputs": [],
   "source": [
    "# comm_date_bucket - yyyymmddhh - 2024120100\n",
    "rows = astra.session.execute(astra.get_prty_cap_stmt, ['ctgy_grp_1', 'ctgy_1', start_date, end_date])\n",
    "print(rows[0].system_sum_count)"
   ]
  },
  {
   "cell_type": "markdown",
   "metadata": {},
   "source": [
    "### CHANNELCAP"
   ]
  },
  {
   "cell_type": "code",
   "execution_count": null,
   "metadata": {},
   "outputs": [],
   "source": [
    "# comm_date_bucket - yyyymmddhh - 2024120100\n",
    "rows = astra.session.execute(astra.get_channel_cap_stmt, ['email', start_date, end_date])\n",
    "print(rows[0].system_sum_count)"
   ]
  },
  {
   "cell_type": "markdown",
   "metadata": {},
   "source": [
    "## Cleanup"
   ]
  },
  {
   "cell_type": "code",
   "execution_count": 2,
   "metadata": {},
   "outputs": [],
   "source": [
    "astra.shutdown()"
   ]
  },
  {
   "cell_type": "code",
   "execution_count": null,
   "metadata": {},
   "outputs": [],
   "source": []
  }
 ],
 "metadata": {
  "kernelspec": {
   "display_name": "env_vectorgraph",
   "language": "python",
   "name": "python3"
  },
  "language_info": {
   "codemirror_mode": {
    "name": "ipython",
    "version": 3
   },
   "file_extension": ".py",
   "mimetype": "text/x-python",
   "name": "python",
   "nbconvert_exporter": "python",
   "pygments_lexer": "ipython3",
   "version": "3.12.5"
  }
 },
 "nbformat": 4,
 "nbformat_minor": 2
}
