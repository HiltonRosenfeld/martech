{
 "cells": [
  {
   "cell_type": "markdown",
   "metadata": {},
   "source": [
    "# Martech - Load Data"
   ]
  },
  {
   "cell_type": "markdown",
   "metadata": {},
   "source": [
    "## Initialise Connection"
   ]
  },
  {
   "cell_type": "code",
   "execution_count": 1,
   "metadata": {},
   "outputs": [],
   "source": [
    "from astra_db import AstraSession\n",
    "from cassandra import ConsistencyLevel\n",
    "\n",
    "session = AstraSession().session"
   ]
  },
  {
   "cell_type": "markdown",
   "metadata": {},
   "source": [
    "## Define Prepared Statements"
   ]
  },
  {
   "cell_type": "markdown",
   "metadata": {},
   "source": [
    "### Communications Table"
   ]
  },
  {
   "cell_type": "code",
   "execution_count": 2,
   "metadata": {},
   "outputs": [],
   "source": [
    "# Communications Table\n",
    "\n",
    "# communication_id: UUID.\n",
    "# comm_date: Timestamp (rounded to the nearest hour).\n",
    "\n",
    "insert_communication_stmt = session.prepare(\"INSERT INTO communications (communication_id, comm_date, customer_id, channel, category_group, category, activity_name) VALUES (?, ?, ?, ?, ?, ?, ?)\")\n",
    "insert_communication_stmt.consistency_level = ConsistencyLevel.ALL"
   ]
  },
  {
   "cell_type": "markdown",
   "metadata": {},
   "source": [
    "### PROFILECAP"
   ]
  },
  {
   "cell_type": "code",
   "execution_count": 3,
   "metadata": {},
   "outputs": [],
   "source": [
    "# PROFILECAP\n",
    "\n",
    "update_profile_cap_stmt = session.prepare(\"UPDATE profile_cap SET count = count + 1 WHERE customer_id = ? AND channel = ? AND comm_date_bucket = ?\")\n",
    "update_profile_cap_stmt.consistency_level = ConsistencyLevel.ALL"
   ]
  },
  {
   "cell_type": "markdown",
   "metadata": {},
   "source": [
    "### ACTYCAP"
   ]
  },
  {
   "cell_type": "code",
   "execution_count": 4,
   "metadata": {},
   "outputs": [],
   "source": [
    "# ACTYCAP\n",
    "\n",
    "update_acty_cap_stmt = session.prepare(\"UPDATE acty_cap SET count = count + 1 WHERE activity_name = ? AND comm_date_bucket = ?\")\n",
    "update_acty_cap_stmt.consistency_level = ConsistencyLevel.ALL"
   ]
  },
  {
   "cell_type": "markdown",
   "metadata": {},
   "source": [
    "### PRTYCAP"
   ]
  },
  {
   "cell_type": "code",
   "execution_count": 5,
   "metadata": {},
   "outputs": [],
   "source": [
    "# PRTYCAP\n",
    "\n",
    "update_prty_cap_stmt = session.prepare(\"UPDATE prty_cap SET count = count + 1 WHERE category_group = ? AND category = ? AND comm_date_bucket = ?\")\n",
    "update_prty_cap_stmt.consistency_level = ConsistencyLevel.ALL"
   ]
  },
  {
   "cell_type": "markdown",
   "metadata": {},
   "source": [
    "### CHANNELCAP"
   ]
  },
  {
   "cell_type": "code",
   "execution_count": 6,
   "metadata": {},
   "outputs": [],
   "source": [
    "# CHANNELCAP\n",
    "\n",
    "update_channel_cap_stmt = session.prepare(\"UPDATE channel_cap SET count = count + 1 WHERE channel = ? AND comm_date_bucket = ?\")\n",
    "update_channel_cap_stmt.consistency_level = ConsistencyLevel.ALL"
   ]
  },
  {
   "cell_type": "markdown",
   "metadata": {},
   "source": [
    "## Load Data"
   ]
  },
  {
   "cell_type": "markdown",
   "metadata": {},
   "source": [
    "### Define Entities"
   ]
  },
  {
   "cell_type": "code",
   "execution_count": 7,
   "metadata": {},
   "outputs": [],
   "source": [
    "# Define Entities\n",
    "\n",
    "# customer_id\n",
    "customer_id_array = [\n",
    "    '0b6ec30f-8b1a-406f-82f6-89222a017449',\n",
    "    '8435a9b9-9e88-495c-a297-dfd25d44428b',\n",
    "    '8e12d570-e47d-43b9-9435-b2020899860b',\n",
    "    '9e53cd14-0316-46ff-b913-30228fcc5b73',\n",
    "    'a6e198e0-674d-4a27-ba01-595a78fda2ef',\n",
    "    'af9e65bd-4474-40c9-8d16-7b82035d3e0f',\n",
    "    'b191cef3-4624-4e88-9a93-73de506e4be7',\n",
    "    'bcabe5dd-8675-4a88-94ed-a9faa9473355',\n",
    "    'cf3a5d68-e66f-4ee7-a2d1-2666c5366540',\n",
    "    'f68e8bc9-86b7-4c8e-ba74-87d31d27a531',\n",
    "    'bcabe5dd-8675-4a88-94ed-a9faa9473355',\n",
    "]\n",
    "\n",
    "# channel\n",
    "channel_array = ['email', 'sms', 'push', 'in-app', 'direct']\n",
    "\n",
    "# category_group\n",
    "category_group_array = ['ctgy_grp_1', 'ctgy_grp_2', 'ctgy_grp_3', 'ctgy_grp_4', 'ctgy_grp_5']\n",
    "\n",
    "# category\n",
    "category_array = ['ctgy_1', 'ctgy_2', 'ctgy_3', 'ctgy_4', 'ctgy_5']\n",
    "\n",
    "# activity_name\n",
    "activity_name_array = ['credit_card', 'mortgage', 'business', 'retail', 'investment']"
   ]
  },
  {
   "cell_type": "markdown",
   "metadata": {},
   "source": [
    "### Insert Data"
   ]
  },
  {
   "cell_type": "code",
   "execution_count": 23,
   "metadata": {},
   "outputs": [
    {
     "name": "stdout",
     "output_type": "stream",
     "text": [
      "1\n",
      "0 1 2 3 4 5 6 7 8 9 10 11 12 13 14 15 16 17 18 19 20 21 22 23 2\n",
      "0 1 2 3 4 5 6 7 8 9 10 11 12 13 14 15 16 17 18 19 20 21 22 23 3\n",
      "0 1 2 3 4 5 6 7 8 9 10 11 12 13 14 15 16 17 18 19 20 21 22 23 4\n",
      "0 1 2 3 4 5 6 7 8 9 10 11 12 13 14 15 16 17 18 19 20 21 22 23 5\n",
      "0 1 2 3 4 5 6 7 8 9 10 11 12 13 14 15 16 17 18 19 20 21 22 23 6\n",
      "0 1 2 3 4 5 6 7 8 9 10 11 12 13 14 15 16 17 18 19 20 21 22 23 7\n",
      "0 1 2 3 4 5 6 7 8 9 10 11 12 13 14 15 16 17 18 19 20 21 22 23 8\n",
      "0 1 2 3 4 5 6 7 8 9 10 11 12 13 14 15 16 17 18 19 20 21 22 23 9\n",
      "0 1 2 3 4 5 6 7 8 9 10 11 12 13 14 15 16 17 18 19 20 21 22 23 10\n",
      "0 1 2 3 4 5 6 7 8 9 10 11 12 13 14 15 16 17 18 19 20 21 22 23 11\n",
      "0 1 2 3 4 5 6 7 8 9 10 11 12 13 14 15 16 17 18 19 20 21 22 23 12\n",
      "0 1 2 3 4 5 6 7 8 9 10 11 12 13 14 15 16 17 18 19 20 21 22 23 13\n",
      "0 1 2 3 4 5 6 7 8 9 10 11 12 13 14 15 16 17 18 19 20 21 22 23 14\n",
      "0 1 2 3 4 5 6 7 8 9 10 11 12 13 14 15 16 17 18 19 20 21 22 23 15\n",
      "0 1 2 3 4 5 6 7 8 9 10 11 12 13 14 15 16 17 18 19 20 21 22 23 16\n",
      "0 1 2 3 4 5 6 7 8 9 10 11 12 13 14 15 16 17 18 19 20 21 22 23 17\n",
      "0 1 2 3 4 5 6 7 8 9 10 11 12 13 14 15 16 17 18 19 20 21 22 23 18\n",
      "0 1 2 3 4 5 6 7 8 9 10 11 12 13 14 15 16 17 18 19 20 21 22 23 19\n",
      "0 1 2 3 4 5 6 7 8 9 10 11 12 13 14 15 16 17 18 19 20 21 22 23 20\n",
      "0 1 2 3 4 5 6 7 8 9 10 11 12 13 14 15 16 17 18 19 20 21 22 23 21\n",
      "0 1 2 3 4 5 6 7 8 9 10 11 12 13 14 15 16 17 18 19 20 21 22 23 22\n",
      "0 1 2 3 4 5 6 7 8 9 10 11 12 13 14 15 16 17 18 19 20 21 22 23 23\n",
      "0 1 2 3 4 5 6 7 8 9 10 11 12 13 14 15 16 17 18 19 20 21 22 23 24\n",
      "0 1 2 3 4 5 6 7 8 9 10 11 12 13 14 15 16 17 18 19 20 21 22 23 25\n",
      "0 1 2 3 4 5 6 7 8 9 10 11 12 13 14 15 16 17 18 19 20 21 22 23 26\n",
      "0 1 2 3 4 5 6 7 8 9 10 11 12 13 14 15 16 17 18 19 20 21 22 23 27\n",
      "0 1 2 3 4 5 6 7 8 9 10 11 12 13 14 15 16 17 18 19 20 21 22 23 28\n",
      "0 1 2 3 4 5 6 7 8 9 10 11 12 13 14 15 16 17 18 19 20 21 22 23 29\n",
      "0 1 2 3 4 5 6 7 8 9 10 11 12 13 14 15 16 17 18 19 20 21 22 23 30\n",
      "0 1 2 3 4 5 6 7 8 9 10 11 12 13 14 15 16 17 18 19 20 21 22 23 "
     ]
    }
   ],
   "source": [
    "from datetime import datetime\n",
    "import random\n",
    "import uuid\n",
    "\n",
    "# iterate over month\n",
    "for day in range(1, 31):\n",
    "    print(day)\n",
    "\n",
    "    # iterate over hours in a day\n",
    "    for hour in range(0, 24):\n",
    "        print(f\"{hour} \", end='')\n",
    "\n",
    "        # iterate over minutes in an hour\n",
    "        for minute in range(0, 60):\n",
    "            #print(f\"{minute} \", end='')\n",
    "\n",
    "            date = datetime(2024, 12, day, hour, minute, 00)\n",
    "            comm_date = date.strftime('%Y-%m-%d %H:%M:%S')\n",
    "            comm_date_bucket = date.strftime('%Y%m%d%H') # bucket by hour\n",
    "            #print(f\"{comm_date} - {comm_date_bucket}\")\n",
    "            \n",
    "            # generate values\n",
    "            comm_id = str(uuid.uuid4())\n",
    "            customer_id = customer_id_array[random.randint(0, 9)]\n",
    "            channel = channel_array[random.randint(0, 4)]\n",
    "            category_group = category_group_array[random.randint(0, 4)]\n",
    "            category = category_array[random.randint(0, 4)]\n",
    "            activity_name = activity_name_array[random.randint(0, 4)]\n",
    "\n",
    "            # insert communication\n",
    "            session.execute(\n",
    "                insert_communication_stmt, \n",
    "                (comm_id, date, customer_id, channel, category_group, category, activity_name)\n",
    "            )\n",
    "\n",
    "\n",
    "            # Update Profile Cap\n",
    "            session.execute(\n",
    "                update_profile_cap_stmt, \n",
    "                (customer_id, channel, comm_date_bucket)\n",
    "            )\n",
    "\n",
    "            # Update Acty Cap\n",
    "            session.execute(\n",
    "                update_acty_cap_stmt, \n",
    "                (activity_name, comm_date_bucket)\n",
    "            )\n",
    "\n",
    "            # Update Prty Cap\n",
    "            session.execute(\n",
    "                update_prty_cap_stmt, \n",
    "                (category_group, category, comm_date_bucket)\n",
    "            )\n",
    "\n",
    "            # Update Channel Cap\n",
    "            session.execute(\n",
    "                update_channel_cap_stmt, \n",
    "                (channel, comm_date_bucket)\n",
    "            )"
   ]
  }
 ],
 "metadata": {
  "kernelspec": {
   "display_name": "env_vectorgraph",
   "language": "python",
   "name": "python3"
  },
  "language_info": {
   "codemirror_mode": {
    "name": "ipython",
    "version": 3
   },
   "file_extension": ".py",
   "mimetype": "text/x-python",
   "name": "python",
   "nbconvert_exporter": "python",
   "pygments_lexer": "ipython3",
   "version": "3.12.5"
  }
 },
 "nbformat": 4,
 "nbformat_minor": 2
}
