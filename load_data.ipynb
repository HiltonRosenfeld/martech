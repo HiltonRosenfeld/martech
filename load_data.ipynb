{
 "cells": [
  {
   "cell_type": "markdown",
   "metadata": {},
   "source": [
    "# Martech - Load Data"
   ]
  },
  {
   "cell_type": "markdown",
   "metadata": {},
   "source": [
    "## Initialise Connection"
   ]
  },
  {
   "cell_type": "code",
   "execution_count": 1,
   "metadata": {},
   "outputs": [],
   "source": [
    "from astra_db import AstraSession\n",
    "\n",
    "astra = AstraSession()"
   ]
  },
  {
   "cell_type": "code",
   "execution_count": 2,
   "metadata": {},
   "outputs": [],
   "source": [
    "# Prepare Statements\n",
    "#update_acty_cap_stmt = astra.session.prepare(\"INSERT INTO actycap_day (activity, comm_date, comm_time) VALUES (?, ?, ?)\")\n",
    "#update_profile_cap_stmt = astra.session.prepare(\"INSERT INTO profilecap_day (customer_id, channel, comm_date, comm_time) VALUES (?, ?, ?, ?)\")\n",
    "#update_prty_cap_stmt = astra.session.prepare(\"INSERT INTO prtycap_day (category_group, category, comm_date, comm_time) VALUES (?, ?, ?, ?)\")\n",
    "#update_channel_cap_stmt = astra.session.prepare(\"INSERT INTO channelcap_day (channel, comm_date, comm_time) VALUES (?, ?, ?)\")\n",
    "\n",
    "#insert_communication_stmt = astra.session.prepare(\"INSERT INTO communications (communication_id, comm_datetime, customer_id, channel, category_group, category, activity_name) VALUES (?, ?, ?, ?, ?, ?, ?)\")\n",
    "insert_communication_stmt = astra.session.prepare(\"INSERT INTO communication_data (comm_id, comm_datetime, request_date, activity, category, channel, customer_id) VALUES (?, ?, ?, ?, ?, ?, ?)\")"
   ]
  },
  {
   "cell_type": "markdown",
   "metadata": {},
   "source": [
    "## Load Data"
   ]
  },
  {
   "cell_type": "markdown",
   "metadata": {},
   "source": [
    "### Define Entities"
   ]
  },
  {
   "cell_type": "code",
   "execution_count": 3,
   "metadata": {},
   "outputs": [],
   "source": [
    "# Define Entities\n",
    "\n",
    "# customer_id\n",
    "customer_id_array = [\n",
    "    '0b6ec30f-8b1a-406f-82f6-89222a017449',\n",
    "    '8435a9b9-9e88-495c-a297-dfd25d44428b',\n",
    "    '8e12d570-e47d-43b9-9435-b2020899860b',\n",
    "    '9e53cd14-0316-46ff-b913-30228fcc5b73',\n",
    "    'a6e198e0-674d-4a27-ba01-595a78fda2ef',\n",
    "    'af9e65bd-4474-40c9-8d16-7b82035d3e0f',\n",
    "    'b191cef3-4624-4e88-9a93-73de506e4be7',\n",
    "    'bcabe5dd-8675-4a88-94ed-a9faa9473355',\n",
    "    'cf3a5d68-e66f-4ee7-a2d1-2666c5366540',\n",
    "    'f68e8bc9-86b7-4c8e-ba74-87d31d27a531',\n",
    "    'bcabe5dd-8675-4a88-94ed-a9faa9473355',\n",
    "]\n",
    "\n",
    "# channel\n",
    "channel_array = ['email', 'sms', 'push', 'in-app', 'direct']\n",
    "\n",
    "# category_group\n",
    "category_group_array = ['ctgy_grp_1', 'ctgy_grp_2', 'ctgy_grp_3', 'ctgy_grp_4', 'ctgy_grp_5']\n",
    "\n",
    "# category\n",
    "category_array = ['ctgy_1', 'ctgy_2', 'ctgy_3', 'ctgy_4', 'ctgy_5']\n",
    "\n",
    "# activity\n",
    "activity_array = ['credit_card', 'mortgage', 'business', 'retail', 'investment']"
   ]
  },
  {
   "cell_type": "markdown",
   "metadata": {},
   "source": [
    "### Define Insert Function"
   ]
  },
  {
   "cell_type": "code",
   "execution_count": 4,
   "metadata": {},
   "outputs": [],
   "source": [
    "from datetime import datetime, timezone\n",
    "import random\n",
    "import uuid\n",
    "\n",
    "\n",
    "def insert_comm(date):\n",
    "    # format date and time\n",
    "    #comm_date = int(date.strftime('%Y%m%d')) # format date as YYYYMMDD\n",
    "    #comm_time = int(date.strftime('%H%M%S%f')[:9]) # format time as HHMMSSsss\n",
    "    \n",
    "    # randomise entities\n",
    "    comm_id = str(uuid.uuid4())\n",
    "    comm_datetime = date\n",
    "    request_date = date\n",
    "    activity = activity_array[random.randint(0, 4)]\n",
    "    customer_id = customer_id_array[random.randint(0, 10)]\n",
    "    channel = channel_array[random.randint(0, 4)]\n",
    "    #category_group = category_group_array[random.randint(0, 4)]\n",
    "    category = category_array[random.randint(0, 4)]\n",
    "\n",
    "    # insert caps\n",
    "    #astra.session.execute(update_acty_cap_stmt, (activity, comm_date, comm_time))\n",
    "    #astra.session.execute(update_profile_cap_stmt, (customer_id, channel, comm_date, comm_time))\n",
    "    #astra.session.execute(update_prty_cap_stmt, (category_group, category, comm_date, comm_time))\n",
    "    #astra.session.execute(update_channel_cap_stmt, (channel, comm_date, comm_time))\n",
    "\n",
    "    # insert communication\n",
    "    astra.session.execute(\n",
    "            insert_communication_stmt, \n",
    "            (comm_id, comm_datetime, request_date, activity, category, channel, customer_id)\n",
    "        )"
   ]
  },
  {
   "cell_type": "markdown",
   "metadata": {},
   "source": [
    "### Load many"
   ]
  },
  {
   "cell_type": "code",
   "execution_count": null,
   "metadata": {},
   "outputs": [],
   "source": [
    "for i in range(8):\n",
    "    date = datetime.now(timezone.utc)\n",
    "    insert_comm(date)"
   ]
  },
  {
   "cell_type": "markdown",
   "metadata": {},
   "source": [
    "### Load a day"
   ]
  },
  {
   "cell_type": "code",
   "execution_count": 15,
   "metadata": {},
   "outputs": [],
   "source": [
    "year = 2025\n",
    "month = 4\n",
    "day = 13\n",
    "\n",
    "# insert data randomly across a day\n",
    "for i in range(10):\n",
    "    hour = random.randint(0, 23)\n",
    "    min = random.randint(0, 59)\n",
    "    sec = random.randint(0, 59)\n",
    "    ms = random.randint(0, 999999)\n",
    "    date = datetime(year, month, day, hour, min, sec, ms, tzinfo=timezone.utc)\n",
    "    insert_comm(date)"
   ]
  },
  {
   "cell_type": "markdown",
   "metadata": {},
   "source": [
    "## Clean Up"
   ]
  },
  {
   "cell_type": "code",
   "execution_count": 5,
   "metadata": {},
   "outputs": [
    {
     "data": {
      "text/plain": [
       "<cassandra.cluster.ResultSet at 0x10d00aba0>"
      ]
     },
     "execution_count": 5,
     "metadata": {},
     "output_type": "execute_result"
    }
   ],
   "source": [
    "# TRUNCATE TABLES\n",
    "astra.session.execute(\"TRUNCATE communication_data\")\n",
    "astra.session.execute(\"TRUNCATE events_by_day\")\n",
    "\n",
    "astra.session.execute(\"TRUNCATE profilecap_month\")\n",
    "astra.session.execute(\"TRUNCATE actycap_day\")\n",
    "astra.session.execute(\"TRUNCATE prtycap_day\")\n",
    "astra.session.execute(\"TRUNCATE channelcap_day\")\n",
    "\n",
    "astra.session.execute(\"TRUNCATE actycap_week\")\n",
    "astra.session.execute(\"TRUNCATE prtycap_week\")\n",
    "astra.session.execute(\"TRUNCATE channelcap_week\")"
   ]
  },
  {
   "cell_type": "code",
   "execution_count": 16,
   "metadata": {},
   "outputs": [],
   "source": [
    "astra.shutdown()"
   ]
  },
  {
   "cell_type": "code",
   "execution_count": null,
   "metadata": {},
   "outputs": [],
   "source": []
  }
 ],
 "metadata": {
  "kernelspec": {
   "display_name": "env_vectorgraph",
   "language": "python",
   "name": "python3"
  },
  "language_info": {
   "codemirror_mode": {
    "name": "ipython",
    "version": 3
   },
   "file_extension": ".py",
   "mimetype": "text/x-python",
   "name": "python",
   "nbconvert_exporter": "python",
   "pygments_lexer": "ipython3",
   "version": "3.12.5"
  }
 },
 "nbformat": 4,
 "nbformat_minor": 2
}
