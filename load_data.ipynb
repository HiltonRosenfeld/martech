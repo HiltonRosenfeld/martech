{
 "cells": [
  {
   "cell_type": "markdown",
   "metadata": {},
   "source": [
    "# Martech - Load Data"
   ]
  },
  {
   "cell_type": "markdown",
   "metadata": {},
   "source": [
    "## Initialise Connection"
   ]
  },
  {
   "cell_type": "code",
   "execution_count": 2,
   "metadata": {},
   "outputs": [],
   "source": [
    "from astra_db import AstraSession\n",
    "\n",
    "astra = AstraSession()\n",
    "astra.prepare_statements()"
   ]
  },
  {
   "cell_type": "markdown",
   "metadata": {},
   "source": [
    "## Load Data"
   ]
  },
  {
   "cell_type": "markdown",
   "metadata": {},
   "source": [
    "### Define Entities"
   ]
  },
  {
   "cell_type": "code",
   "execution_count": 2,
   "metadata": {},
   "outputs": [],
   "source": [
    "# Define Entities\n",
    "\n",
    "# customer_id\n",
    "customer_id_array = [\n",
    "    '0b6ec30f-8b1a-406f-82f6-89222a017449',\n",
    "    '8435a9b9-9e88-495c-a297-dfd25d44428b',\n",
    "    '8e12d570-e47d-43b9-9435-b2020899860b',\n",
    "    '9e53cd14-0316-46ff-b913-30228fcc5b73',\n",
    "    'a6e198e0-674d-4a27-ba01-595a78fda2ef',\n",
    "    'af9e65bd-4474-40c9-8d16-7b82035d3e0f',\n",
    "    'b191cef3-4624-4e88-9a93-73de506e4be7',\n",
    "    'bcabe5dd-8675-4a88-94ed-a9faa9473355',\n",
    "    'cf3a5d68-e66f-4ee7-a2d1-2666c5366540',\n",
    "    'f68e8bc9-86b7-4c8e-ba74-87d31d27a531',\n",
    "    'bcabe5dd-8675-4a88-94ed-a9faa9473355',\n",
    "]\n",
    "\n",
    "# channel\n",
    "channel_array = ['email', 'sms', 'push', 'in-app', 'direct']\n",
    "\n",
    "# category_group\n",
    "category_group_array = ['ctgy_grp_1', 'ctgy_grp_2', 'ctgy_grp_3', 'ctgy_grp_4', 'ctgy_grp_5']\n",
    "\n",
    "# category\n",
    "category_array = ['ctgy_1', 'ctgy_2', 'ctgy_3', 'ctgy_4', 'ctgy_5']\n",
    "\n",
    "# activity_name\n",
    "activity_name_array = ['credit_card', 'mortgage', 'business', 'retail', 'investment']"
   ]
  },
  {
   "cell_type": "markdown",
   "metadata": {},
   "source": [
    "### Insert Data"
   ]
  },
  {
   "cell_type": "code",
   "execution_count": null,
   "metadata": {},
   "outputs": [],
   "source": [
    "from datetime import datetime\n",
    "import random\n",
    "import uuid\n",
    "\n",
    "# iterate over month\n",
    "for day in range(1, 31):\n",
    "    print(day)\n",
    "\n",
    "    # iterate over hours in a day\n",
    "    for hour in range(0, 24):\n",
    "        print(f\"{hour} \", end='')\n",
    "\n",
    "        # iterate over minutes in an hour\n",
    "        for minute in range(0, 60):\n",
    "            #print(f\"{minute} \", end='')\n",
    "\n",
    "            date = datetime(2024, 12, day, hour, minute, 00)\n",
    "            comm_date = date.strftime('%Y-%m-%d %H:%M:%S')\n",
    "            comm_date_bucket = date.strftime('%Y%m%d%H') # bucket by hour\n",
    "            #print(f\"{comm_date} - {comm_date_bucket}\")\n",
    "            \n",
    "            # generate values\n",
    "            comm_id = str(uuid.uuid4())\n",
    "            customer_id = customer_id_array[random.randint(0, 9)]\n",
    "            channel = channel_array[random.randint(0, 4)]\n",
    "            category_group = category_group_array[random.randint(0, 4)]\n",
    "            category = category_array[random.randint(0, 4)]\n",
    "            activity_name = activity_name_array[random.randint(0, 4)]\n",
    "\n",
    "            # insert communication\n",
    "            astra.session.execute(\n",
    "                astra.insert_communication_stmt, \n",
    "                (comm_id, date, customer_id, channel, category_group, category, activity_name)\n",
    "            )\n",
    "\n",
    "\n",
    "            # Update Profile Cap\n",
    "            astra.session.execute(\n",
    "                astra.update_profile_cap_stmt, \n",
    "                (customer_id, channel, comm_date_bucket)\n",
    "            )\n",
    "\n",
    "            # Update Acty Cap\n",
    "            astra.session.execute(\n",
    "                astra.update_acty_cap_stmt, \n",
    "                (activity_name, comm_date_bucket)\n",
    "            )\n",
    "\n",
    "            # Update Prty Cap\n",
    "            astra.session.execute(\n",
    "                astra.update_prty_cap_stmt, \n",
    "                (category_group, category, comm_date_bucket)\n",
    "            )\n",
    "\n",
    "            # Update Channel Cap\n",
    "            astra.session.execute(\n",
    "                astra.update_channel_cap_stmt, \n",
    "                (channel, comm_date_bucket)\n",
    "            )"
   ]
  },
  {
   "cell_type": "markdown",
   "metadata": {},
   "source": [
    "## Clean Up"
   ]
  },
  {
   "cell_type": "code",
   "execution_count": 3,
   "metadata": {},
   "outputs": [],
   "source": [
    "astra.shutdown()"
   ]
  }
 ],
 "metadata": {
  "kernelspec": {
   "display_name": "env_vectorgraph",
   "language": "python",
   "name": "python3"
  },
  "language_info": {
   "codemirror_mode": {
    "name": "ipython",
    "version": 3
   },
   "file_extension": ".py",
   "mimetype": "text/x-python",
   "name": "python",
   "nbconvert_exporter": "python",
   "pygments_lexer": "ipython3",
   "version": "3.12.5"
  }
 },
 "nbformat": 4,
 "nbformat_minor": 2
}
