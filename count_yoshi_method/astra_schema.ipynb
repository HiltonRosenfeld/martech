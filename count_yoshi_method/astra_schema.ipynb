{
 "cells": [
  {
   "cell_type": "markdown",
   "metadata": {},
   "source": [
    "## Astra Schema"
   ]
  },
  {
   "cell_type": "markdown",
   "metadata": {},
   "source": [
    "### Initialise Connection"
   ]
  },
  {
   "cell_type": "code",
   "execution_count": null,
   "metadata": {},
   "outputs": [],
   "source": [
    "from astra_db import AstraSession\n",
    "\n",
    "session = AstraSession().session"
   ]
  },
  {
   "cell_type": "markdown",
   "metadata": {},
   "source": [
    "## Schema"
   ]
  },
  {
   "cell_type": "markdown",
   "metadata": {},
   "source": [
    "### Create Tables"
   ]
  },
  {
   "cell_type": "code",
   "execution_count": null,
   "metadata": {},
   "outputs": [],
   "source": [
    "#\n",
    "# Communications Table\n",
    "#\n",
    "session.execute(\n",
    "    \"\"\"\n",
    "    CREATE TABLE IF NOT EXISTS communications (\n",
    "    communication_id TEXT PRIMARY KEY,\n",
    "    comm_date TIMESTAMP,\n",
    "    customer_id TEXT,\n",
    "    channel TEXT,\n",
    "    category_group TEXT,\n",
    "    category TEXT,\n",
    "    activity_name TEXT\n",
    "    )\n",
    "    \"\"\"\n",
    ")"
   ]
  },
  {
   "cell_type": "code",
   "execution_count": null,
   "metadata": {},
   "outputs": [],
   "source": [
    "session.execute(\n",
    "    \"\"\"\n",
    "    CREATE CUSTOM INDEX idx_comm_date ON communications (comm_date) USING 'StorageAttachedIndex' ;\n",
    "    CREATE CUSTOM INDEX idx_customer_id ON communications (customer_id) USING 'StorageAttachedIndex' ;\n",
    "    CREATE CUSTOM INDEX idx_channel ON communications (channel) USING 'StorageAttachedIndex' ;\n",
    "    CREATE CUSTOM INDEX idx_category_group ON communications (category_group) USING 'StorageAttachedIndex' ;\n",
    "    CREATE CUSTOM INDEX idx_category ON communications (category) USING 'StorageAttachedIndex' ;\n",
    "    CREATE CUSTOM INDEX idx_activity ON communications (activity_name) USING 'StorageAttachedIndex' ;\n",
    "    \"\"\"\n",
    ")"
   ]
  },
  {
   "cell_type": "markdown",
   "metadata": {},
   "source": [
    "## Drop Schema"
   ]
  },
  {
   "cell_type": "code",
   "execution_count": null,
   "metadata": {},
   "outputs": [],
   "source": [
    "session.execute(\"DROP TABLE IF EXISTS communications\")\n",
    "session.execute(\"DROP TABLE IF EXISTS profile_cap\")\n",
    "session.execute(\"DROP TABLE IF EXISTS acty_cap\")\n",
    "session.execute(\"DROP TABLE IF EXISTS prty_cap\")\n",
    "session.execute(\"DROP TABLE IF EXISTS channel_cap\")"
   ]
  },
  {
   "cell_type": "code",
   "execution_count": null,
   "metadata": {},
   "outputs": [],
   "source": [
    "session.shutdown()"
   ]
  },
  {
   "cell_type": "code",
   "execution_count": null,
   "metadata": {},
   "outputs": [],
   "source": []
  }
 ],
 "metadata": {
  "kernelspec": {
   "display_name": "env_vectorgraph",
   "language": "python",
   "name": "python3"
  },
  "language_info": {
   "codemirror_mode": {
    "name": "ipython",
    "version": 3
   },
   "file_extension": ".py",
   "mimetype": "text/x-python",
   "name": "python",
   "nbconvert_exporter": "python",
   "pygments_lexer": "ipython3",
   "version": "3.12.5"
  }
 },
 "nbformat": 4,
 "nbformat_minor": 2
}
