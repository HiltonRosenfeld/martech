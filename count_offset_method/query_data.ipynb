{
 "cells": [
  {
   "cell_type": "markdown",
   "metadata": {},
   "source": [
    "# Martech - Query Data"
   ]
  },
  {
   "cell_type": "markdown",
   "metadata": {},
   "source": [
    "## Initialise Connection"
   ]
  },
  {
   "cell_type": "code",
   "execution_count": 1,
   "metadata": {},
   "outputs": [],
   "source": [
    "from datetime import datetime\n",
    "from astra_db import AstraSession\n",
    "from state import OffsetState as os\n",
    "\n",
    "astra = AstraSession()"
   ]
  },
  {
   "cell_type": "code",
   "execution_count": 2,
   "metadata": {},
   "outputs": [],
   "source": [
    "# Prepare Statements\n",
    "\n",
    "# comm_by_activity_day\n",
    "get_acty_cap_stmt = astra.session.prepare(\"\"\"SELECT comm_time, comm_offset_time, comm_offset_count \n",
    "                                          FROM comm_by_activity_day WHERE \n",
    "                                          activity_name = ? AND comm_date = ? AND comm_time > ?\"\"\")\n",
    "\n",
    "update_acty_cap_stmt = astra.session.prepare(\"\"\"UPDATE comm_by_activity_day\n",
    "                                             SET comm_offset_time = ?, comm_offset_count = ? \n",
    "                                             WHERE activity_name = ? AND comm_date = ?\"\"\")\n",
    "# comm_by_activity_week\n",
    "get_acty_cap_week_stmt = astra.session.prepare(\"\"\"SELECT comm_count FROM comm_by_activity_week WHERE \n",
    "                                          activity_name = ? AND comm_date >= ? AND comm_date <= ?\"\"\")"
   ]
  },
  {
   "cell_type": "markdown",
   "metadata": {},
   "source": [
    "## Define Entities"
   ]
  },
  {
   "cell_type": "code",
   "execution_count": 3,
   "metadata": {},
   "outputs": [],
   "source": [
    "# Define Entities\n",
    "\n",
    "# customer_id\n",
    "customer_id_array = [\n",
    "    '0b6ec30f-8b1a-406f-82f6-89222a017449',\n",
    "    '8435a9b9-9e88-495c-a297-dfd25d44428b',\n",
    "    '8e12d570-e47d-43b9-9435-b2020899860b',\n",
    "    '9e53cd14-0316-46ff-b913-30228fcc5b73',\n",
    "    'a6e198e0-674d-4a27-ba01-595a78fda2ef',\n",
    "    'af9e65bd-4474-40c9-8d16-7b82035d3e0f',\n",
    "    'b191cef3-4624-4e88-9a93-73de506e4be7',\n",
    "    'bcabe5dd-8675-4a88-94ed-a9faa9473355',\n",
    "    'cf3a5d68-e66f-4ee7-a2d1-2666c5366540',\n",
    "    'f68e8bc9-86b7-4c8e-ba74-87d31d27a531',\n",
    "    'bcabe5dd-8675-4a88-94ed-a9faa9473355',\n",
    "]\n",
    "\n",
    "# channel\n",
    "channel_array = ['email', 'sms', 'push', 'in-app', 'direct']\n",
    "\n",
    "# category_group\n",
    "category_group_array = ['ctgy_grp_1', 'ctgy_grp_2', 'ctgy_grp_3', 'ctgy_grp_4', 'ctgy_grp_5']\n",
    "\n",
    "# category\n",
    "category_array = ['ctgy_1', 'ctgy_2', 'ctgy_3', 'ctgy_4', 'ctgy_5']\n",
    "\n",
    "# activity_name\n",
    "activity_name_array = ['credit_card', 'mortgage', 'business', 'retail', 'investment']"
   ]
  },
  {
   "cell_type": "markdown",
   "metadata": {},
   "source": [
    "## Query Data"
   ]
  },
  {
   "cell_type": "code",
   "execution_count": 16,
   "metadata": {},
   "outputs": [],
   "source": [
    "activity_name = 'investment'"
   ]
  },
  {
   "cell_type": "markdown",
   "metadata": {},
   "source": [
    "### Daily"
   ]
  },
  {
   "cell_type": "markdown",
   "metadata": {},
   "source": [
    "#### Query"
   ]
  },
  {
   "cell_type": "code",
   "execution_count": 25,
   "metadata": {},
   "outputs": [
    {
     "name": "stdout",
     "output_type": "stream",
     "text": [
      "State Offset Time: 11450648  State Offset Count: 84\n",
      "No rows returned\n",
      "Total Count: 84,  Row Count: 0\n",
      "Comm Time Bucket: 12113294  Offset Time: 11450648  Offset Count: 84\n"
     ]
    }
   ],
   "source": [
    "# Communications by Activity Day\n",
    "# SELECT comm_time, comm_offset_time, comm_offset_count FROM comm_by_activity_day \n",
    "# WHERE activity_name = ? AND comm_date = ? AND comm_time > ?\n",
    "\n",
    "#\n",
    "# To get the total count, we add comm_offset_count to the number of rows returned\n",
    "\n",
    "\n",
    "# Set the current day and time buckets\n",
    "date = datetime.now()\n",
    "current_date = int(date.strftime('%Y%m%d')) # bucket by day\n",
    "current_time = int(date.strftime('%H%M%S%f')[:8]) # format time as HHMMSSssss\n",
    "\n",
    "# Read stored state values for activity from JSON file named state.json\n",
    "(comm_offset_time, comm_offset_count) = os.get_state(activity_name)\n",
    "\n",
    "rows = astra.session.execute(get_acty_cap_stmt, [activity_name, current_date, comm_offset_time ])\n",
    "# test if query returned any rows\n",
    "if not rows:\n",
    "    print(\"No rows returned\")\n",
    "    row_count = 0\n",
    "    total_comm_count = comm_offset_count\n",
    "else:\n",
    "    comm_offset_time = rows[0].comm_offset_time or 0\n",
    "    comm_offset_count = rows[0].comm_offset_count or 0\n",
    "    comm_time = rows[0].comm_time or 0\n",
    "    row_count = sum(1 for _ in rows)  # Count rows\n",
    "    total_comm_count = comm_offset_count + row_count\n",
    "\n",
    "print(f\"Total Count: {total_comm_count},  Row Count: {row_count}\")\n",
    "print(f\"Comm Time Bucket: {current_time}  Offset Time: { comm_offset_time}  Offset Count: {comm_offset_count}\")"
   ]
  },
  {
   "cell_type": "markdown",
   "metadata": {},
   "source": [
    "#### Update"
   ]
  },
  {
   "cell_type": "code",
   "execution_count": 21,
   "metadata": {},
   "outputs": [],
   "source": [
    "# Update - Communications by Activity Day\n",
    "# SET comm_offset_time = ?, comm_offset_count = ? WHERE activity_name = ? AND comm_date = ?\n",
    "#\n",
    "# comm_offset_time will be the last comm_time value read\n",
    "# comm_offset_count will be the number of comm_time values counted up to that time.\n",
    "\n",
    "rows = astra.session.execute(update_acty_cap_stmt, [comm_time, total_comm_count, activity_name, current_date])\n",
    "\n",
    "# Store State for next run\n",
    "os.set_state(activity_name, comm_time, total_comm_count)"
   ]
  },
  {
   "cell_type": "markdown",
   "metadata": {},
   "source": [
    "### Weekly"
   ]
  },
  {
   "cell_type": "code",
   "execution_count": null,
   "metadata": {},
   "outputs": [
    {
     "name": "stdout",
     "output_type": "stream",
     "text": [
      "Count: 1146\n"
     ]
    }
   ],
   "source": [
    "activity_name = 'retail'\n",
    "start_date = 20250118\n",
    "end_date = 20250218\n",
    "\n",
    "rows = astra.session.execute(get_acty_cap_week_stmt, [activity_name, start_date, end_date])\n",
    "\n",
    "if not rows:\n",
    "    print(\"No rows returned\")\n",
    "    count = 0\n",
    "else:\n",
    "    count = sum(row.comm_count for row in rows)\n",
    "\n",
    "print(f\"Count: {count}\")"
   ]
  },
  {
   "cell_type": "markdown",
   "metadata": {},
   "source": [
    "## Generate Daily Summaries"
   ]
  },
  {
   "cell_type": "code",
   "execution_count": 23,
   "metadata": {},
   "outputs": [
    {
     "name": "stdout",
     "output_type": "stream",
     "text": [
      "Activity: credit_card Row Count: 88\n",
      "Activity: mortgage Row Count: 81\n",
      "Activity: business Row Count: 65\n",
      "Activity: retail Row Count: 82\n",
      "Activity: investment Row Count: 84\n"
     ]
    }
   ],
   "source": [
    "current_date = 20250221\n",
    "\n",
    "for activity_name in activity_name_array:\n",
    "    rows = astra.session.execute(f\"SELECT comm_time, comm_offset_time, comm_offset_count FROM comm_by_activity_day WHERE \\\n",
    "                                activity_name = '{activity_name}' AND comm_date = {current_date}\")\n",
    "    if not rows:\n",
    "        print(\"No rows returned\")\n",
    "        row_count = 0\n",
    "        continue\n",
    "    else:\n",
    "        row_count = sum(1 for _ in rows)  # Count rows\n",
    "\n",
    "    print(f\"Activity: {activity_name} Row Count: {row_count}\")\n",
    "\n",
    "    # Insert summary data for the day\n",
    "    #    activity_name text,\n",
    "    #    comm_date int,\n",
    "    #    comm_count int,\n",
    "\n",
    "    astra.session.execute(f\"INSERT INTO comm_by_activity_week (activity_name, comm_date, comm_count) \\\n",
    "                        VALUES ('{activity_name}', {current_date}, {row_count})\")"
   ]
  },
  {
   "cell_type": "markdown",
   "metadata": {},
   "source": [
    "## Cleanup"
   ]
  },
  {
   "cell_type": "code",
   "execution_count": 26,
   "metadata": {},
   "outputs": [],
   "source": [
    "astra.shutdown()"
   ]
  },
  {
   "cell_type": "code",
   "execution_count": null,
   "metadata": {},
   "outputs": [],
   "source": []
  }
 ],
 "metadata": {
  "kernelspec": {
   "display_name": "env_vectorgraph",
   "language": "python",
   "name": "python3"
  },
  "language_info": {
   "codemirror_mode": {
    "name": "ipython",
    "version": 3
   },
   "file_extension": ".py",
   "mimetype": "text/x-python",
   "name": "python",
   "nbconvert_exporter": "python",
   "pygments_lexer": "ipython3",
   "version": "3.12.5"
  }
 },
 "nbformat": 4,
 "nbformat_minor": 2
}
