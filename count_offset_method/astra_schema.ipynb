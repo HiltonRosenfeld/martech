{
 "cells": [
  {
   "cell_type": "markdown",
   "metadata": {},
   "source": [
    "## Astra Schema"
   ]
  },
  {
   "cell_type": "markdown",
   "metadata": {},
   "source": [
    "### Initialise Connection"
   ]
  },
  {
   "cell_type": "code",
   "execution_count": null,
   "metadata": {},
   "outputs": [],
   "source": [
    "from astra_db import AstraSession\n",
    "\n",
    "session = AstraSession().session"
   ]
  },
  {
   "cell_type": "markdown",
   "metadata": {},
   "source": [
    "## Schema"
   ]
  },
  {
   "cell_type": "markdown",
   "metadata": {},
   "source": [
    "### Create Tables"
   ]
  },
  {
   "cell_type": "code",
   "execution_count": null,
   "metadata": {},
   "outputs": [],
   "source": [
    "#\n",
    "# Communications Table\n",
    "#\n",
    "session.execute(\n",
    "    \"\"\"\n",
    "    CREATE TABLE IF NOT EXISTS communications (\n",
    "    communication_id TEXT,\n",
    "    comm_date TIMESTAMP,\n",
    "    customer_id TEXT,\n",
    "    channel TEXT,\n",
    "    category_group TEXT,\n",
    "    category TEXT,\n",
    "    activity_name TEXT,\n",
    "    PRIMARY KEY ((communication_id), comm_date) );\n",
    "    \"\"\"\n",
    ")"
   ]
  },
  {
   "cell_type": "markdown",
   "metadata": {},
   "source": [
    "### Create CAP Tables"
   ]
  },
  {
   "cell_type": "markdown",
   "metadata": {},
   "source": [
    "#### Daily Tables\n",
    "\n",
    "**Columns**\n",
    "\n",
    "* activity_name: assumed to be around 10 characters e.g. \"mortgage\" or \"creditcard\"\n",
    "* comm_date: the day (bucket) date in the format YYYYMMDD; there is a new partition for each day.\n",
    "* comm_time: the time a message is written in the format HHMMSSssss; there is a new row for each write message time.\n",
    "* comm_offset_time: the time offset in the same format as comm_time; use this in conjunction with comm_offset_count to reduce the number of rows read.\n",
    "* comm_offset_count: the number of messages from the start of the day to comm_offset_time.\n",
    "\n",
    "There is no need to store the message id as we just want to count the number of messages in a given time period. To save on space, we store the time the message was written in a custom format that is smaller than a timestamp.\n",
    "\n",
    "\n",
    "#### Weekly Tables\n",
    "This table will store the number of messages sent on every day in a given year for a given activity.\n",
    "\n",
    "**Columns**\n",
    "* activity_name: assumed to be around 10 characters e.g. \"mortgage\" or \"creditcard\"\n",
    "* comm_date: the day date in the format YYYYMMDD; there is a new row for each day in the week.\n",
    "* comm_count: the number of messages sent for the given comm_date day.\n",
    "\n",
    "Rather than store each message sent in a day for an activity, we store the total number of messages sent in a day. \n",
    "This significantly reduces the number of rows stored and the amount of work the application needs to do to get \n",
    "the total number of messages sent for a certain time period. \n",
    "The number of messages sent in a day can be obtained from the comm_by_activity_day table and used to populate this table."
   ]
  },
  {
   "cell_type": "code",
   "execution_count": null,
   "metadata": {},
   "outputs": [],
   "source": [
    "#\n",
    "# Communications by Activity\n",
    "#\n",
    "# This table will store the number of messages sent in a day for a given activity.\n",
    "#\n",
    "session.execute(\n",
    "    \"\"\"\n",
    "    CREATE TABLE IF NOT EXISTS comm_by_activity_day (\n",
    "        activity_name text,\n",
    "        comm_date int, \n",
    "        comm_time int, \n",
    "        comm_offset_time int static,\n",
    "        comm_offset_count int static,\n",
    "        PRIMARY KEY ((activity_name, comm_date), comm_time)\n",
    "    ) WITH CLUSTERING ORDER BY (comm_time DESC) AND default_time_to_live = 604800;\n",
    "    \"\"\"\n",
    ")\n",
    "\n",
    "#\n",
    "# This table will store the number of messages sent on every day in a given year for a given activity.\n",
    "#\n",
    "session.execute(\n",
    "    \"\"\"\n",
    "    CREATE TABLE IF NOT EXISTS comm_by_activity_week (\n",
    "        activity_name text,\n",
    "        comm_date int,\n",
    "        comm_count int,\n",
    "        PRIMARY KEY ((activity_name), comm_date)\n",
    "    ) WITH CLUSTERING ORDER BY (comm_date DESC) AND default_time_to_live = 7776000;\n",
    "    \"\"\"\n",
    ")"
   ]
  },
  {
   "cell_type": "markdown",
   "metadata": {},
   "source": []
  },
  {
   "cell_type": "markdown",
   "metadata": {},
   "source": [
    "## Drop Schema"
   ]
  },
  {
   "cell_type": "code",
   "execution_count": null,
   "metadata": {},
   "outputs": [],
   "source": [
    "session.execute(\"DROP TABLE IF EXISTS communications\")\n",
    "session.execute(\"DROP TABLE IF EXISTS comm_by_activity_day\")\n",
    "session.execute(\"DROP TABLE IF EXISTS comm_by_activity_week\")"
   ]
  },
  {
   "cell_type": "code",
   "execution_count": null,
   "metadata": {},
   "outputs": [],
   "source": []
  }
 ],
 "metadata": {
  "kernelspec": {
   "display_name": "env_vectorgraph",
   "language": "python",
   "name": "python3"
  },
  "language_info": {
   "codemirror_mode": {
    "name": "ipython",
    "version": 3
   },
   "file_extension": ".py",
   "mimetype": "text/x-python",
   "name": "python",
   "nbconvert_exporter": "python",
   "pygments_lexer": "ipython3",
   "version": "3.12.5"
  }
 },
 "nbformat": 4,
 "nbformat_minor": 2
}
