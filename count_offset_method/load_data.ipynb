{
 "cells": [
  {
   "cell_type": "markdown",
   "metadata": {},
   "source": [
    "# Martech - Load Data"
   ]
  },
  {
   "cell_type": "markdown",
   "metadata": {},
   "source": [
    "## Initialise Connection"
   ]
  },
  {
   "cell_type": "code",
   "execution_count": 10,
   "metadata": {},
   "outputs": [],
   "source": [
    "from astra_db import AstraSession\n",
    "\n",
    "astra = AstraSession()"
   ]
  },
  {
   "cell_type": "code",
   "execution_count": 11,
   "metadata": {},
   "outputs": [],
   "source": [
    "# Prepare Statements\n",
    "insert_communication_stmt = astra.session.prepare(\"INSERT INTO communications (communication_id, comm_date, customer_id, channel, category_group, category, activity_name) VALUES (?, ?, ?, ?, ?, ?, ?)\")\n",
    "update_acty_cap_stmt = astra.session.prepare(\"INSERT INTO comm_by_activity_day (activity_name, comm_date_bucket, comm_time_bucket) VALUES (?, ?, ?)\")"
   ]
  },
  {
   "cell_type": "markdown",
   "metadata": {},
   "source": [
    "## Load Data"
   ]
  },
  {
   "cell_type": "markdown",
   "metadata": {},
   "source": [
    "### Define Entities"
   ]
  },
  {
   "cell_type": "code",
   "execution_count": 12,
   "metadata": {},
   "outputs": [],
   "source": [
    "# Define Entities\n",
    "\n",
    "# customer_id\n",
    "customer_id_array = [\n",
    "    '0b6ec30f-8b1a-406f-82f6-89222a017449',\n",
    "    '8435a9b9-9e88-495c-a297-dfd25d44428b',\n",
    "    '8e12d570-e47d-43b9-9435-b2020899860b',\n",
    "    '9e53cd14-0316-46ff-b913-30228fcc5b73',\n",
    "    'a6e198e0-674d-4a27-ba01-595a78fda2ef',\n",
    "    'af9e65bd-4474-40c9-8d16-7b82035d3e0f',\n",
    "    'b191cef3-4624-4e88-9a93-73de506e4be7',\n",
    "    'bcabe5dd-8675-4a88-94ed-a9faa9473355',\n",
    "    'cf3a5d68-e66f-4ee7-a2d1-2666c5366540',\n",
    "    'f68e8bc9-86b7-4c8e-ba74-87d31d27a531',\n",
    "    'bcabe5dd-8675-4a88-94ed-a9faa9473355',\n",
    "]\n",
    "\n",
    "# channel\n",
    "channel_array = ['email', 'sms', 'push', 'in-app', 'direct']\n",
    "\n",
    "# category_group\n",
    "category_group_array = ['ctgy_grp_1', 'ctgy_grp_2', 'ctgy_grp_3', 'ctgy_grp_4', 'ctgy_grp_5']\n",
    "\n",
    "# category\n",
    "category_array = ['ctgy_1', 'ctgy_2', 'ctgy_3', 'ctgy_4', 'ctgy_5']\n",
    "\n",
    "# activity_name\n",
    "activity_name_array = ['credit_card', 'mortgage', 'business', 'retail', 'investment']"
   ]
  },
  {
   "cell_type": "markdown",
   "metadata": {},
   "source": [
    "### Define Insert Function"
   ]
  },
  {
   "cell_type": "code",
   "execution_count": 13,
   "metadata": {},
   "outputs": [],
   "source": [
    "from datetime import datetime\n",
    "import random\n",
    "import uuid\n",
    "\n",
    "YEAR = 2025\n",
    "MONTH = 2\n",
    "\n",
    "\n",
    "def insert_comm():\n",
    "    #sec = random.randint(0, 59)\n",
    "    #ms = random.randint(0, 999999)\n",
    "    #date = datetime(YEAR, MONTH, day, hour, min, sec, ms)\n",
    "    date = datetime.now()\n",
    "    comm_date_bucket = int(date.strftime('%Y%m%d')) # bucket by day\n",
    "    comm_time_bucket = int(date.strftime('%H%M%S%f')[:8]) # format time as HHMMSSssss\n",
    "    #print(f\"{comm_date_bucket} - {comm_time_bucket}\")\n",
    "    \n",
    "    \n",
    "    # generate values\n",
    "    comm_id = str(uuid.uuid4())\n",
    "    customer_id = customer_id_array[random.randint(0, 9)]\n",
    "    channel = channel_array[random.randint(0, 4)]\n",
    "    category_group = category_group_array[random.randint(0, 4)]\n",
    "    category = category_array[random.randint(0, 4)]\n",
    "    activity_name = activity_name_array[random.randint(0, 4)]\n",
    "\n",
    "\n",
    "    # insert communication\n",
    "    astra.session.execute(\n",
    "        insert_communication_stmt, \n",
    "        (comm_id, date, customer_id, channel, category_group, category, activity_name)\n",
    "    )\n",
    "    \n",
    "    astra.session.execute(\n",
    "        update_acty_cap_stmt, \n",
    "        (activity_name, comm_date_bucket, comm_time_bucket)\n",
    "    )\n",
    "\n",
    "    \n",
    "\n",
    "    \"\"\"\n",
    "    # Update Profile Cap\n",
    "    astra.session.execute(\n",
    "        astra.update_profile_cap_stmt, \n",
    "        (customer_id, channel, comm_date_bucket, comm_id)\n",
    "    )\n",
    "\n",
    "    # Update Acty Cap\n",
    "    astra.session.execute(\n",
    "        astra.update_acty_cap_stmt, \n",
    "        (activity_name, comm_date_bucket, comm_id)\n",
    "    )\n",
    "\n",
    "    # Update Prty Cap\n",
    "    astra.session.execute(\n",
    "        astra.update_prty_cap_stmt, \n",
    "        (category_group, category, comm_date_bucket, comm_id)\n",
    "    )\n",
    "\n",
    "    # Update Channel Cap\n",
    "    astra.session.execute(\n",
    "        astra.update_channel_cap_stmt, \n",
    "        (channel, comm_date_bucket, comm_id)\n",
    "    )\n",
    "    \"\"\""
   ]
  },
  {
   "cell_type": "markdown",
   "metadata": {},
   "source": [
    "### Load Single"
   ]
  },
  {
   "cell_type": "code",
   "execution_count": null,
   "metadata": {},
   "outputs": [],
   "source": [
    "insert_comm()"
   ]
  },
  {
   "cell_type": "markdown",
   "metadata": {},
   "source": [
    "### Load Many"
   ]
  },
  {
   "cell_type": "code",
   "execution_count": 17,
   "metadata": {},
   "outputs": [],
   "source": [
    "for i in range(10):\n",
    "    insert_comm()"
   ]
  },
  {
   "cell_type": "markdown",
   "metadata": {},
   "source": [
    "### Load a month"
   ]
  },
  {
   "cell_type": "code",
   "execution_count": null,
   "metadata": {},
   "outputs": [],
   "source": [
    "# iterate over month\n",
    "for day in range(1, 31):\n",
    "    print()\n",
    "    print(day)\n",
    "\n",
    "    # iterate over hours in a day\n",
    "    for hour in range(0, 24):\n",
    "        print(f\"{hour} \", end='')\n",
    "        insert_comm()"
   ]
  },
  {
   "cell_type": "markdown",
   "metadata": {},
   "source": [
    "## Clean Up"
   ]
  },
  {
   "cell_type": "code",
   "execution_count": 18,
   "metadata": {},
   "outputs": [],
   "source": [
    "astra.shutdown()"
   ]
  },
  {
   "cell_type": "code",
   "execution_count": null,
   "metadata": {},
   "outputs": [],
   "source": []
  }
 ],
 "metadata": {
  "kernelspec": {
   "display_name": "env_vectorgraph",
   "language": "python",
   "name": "python3"
  },
  "language_info": {
   "codemirror_mode": {
    "name": "ipython",
    "version": 3
   },
   "file_extension": ".py",
   "mimetype": "text/x-python",
   "name": "python",
   "nbconvert_exporter": "python",
   "pygments_lexer": "ipython3",
   "version": "3.12.5"
  }
 },
 "nbformat": 4,
 "nbformat_minor": 2
}
