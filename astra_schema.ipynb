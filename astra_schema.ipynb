{
 "cells": [
  {
   "cell_type": "markdown",
   "metadata": {},
   "source": [
    "## Astra Schema"
   ]
  },
  {
   "cell_type": "markdown",
   "metadata": {},
   "source": [
    "### Initialise Connection"
   ]
  },
  {
   "cell_type": "code",
   "execution_count": 5,
   "metadata": {},
   "outputs": [],
   "source": [
    "from astra_db import AstraSession\n",
    "\n",
    "session = AstraSession().session"
   ]
  },
  {
   "cell_type": "markdown",
   "metadata": {},
   "source": [
    "## Schema"
   ]
  },
  {
   "cell_type": "markdown",
   "metadata": {},
   "source": [
    "**Daily Table Columns**\n",
    "\n",
    "* comm_date: the day (bucket) date in the format YYYYMMDD; there is a new partition for each day.\n",
    "* comm_time: the time a message is written in the format HHMMSSssss; there is a new row for each write message time.\n",
    "* comm_offset_time: the time offset in the same format as comm_time; use this in conjunction with comm_offset_count to reduce the number of rows read.\n",
    "* comm_offset_count: the number of messages from the start of the day to comm_offset_time.\n",
    "\n",
    "To save on space, we store the time the message was written in a custom format that is smaller than a timestamp.\n",
    "\n",
    "\n",
    "**Weekly Table Coumns**\n",
    "This table will store the number of messages sent on every day in a given year for a given activity.\n",
    "\n",
    "* comm_date: the day date in the format YYYYMMDD; there is a new row for each day in the week.\n",
    "* comm_count: the number of messages sent for the given comm_date day.\n",
    "\n",
    "Rather than store each message sent in a day for an activity, we store the total number of messages sent in a day. \n",
    "This significantly reduces the number of rows stored and the amount of work the application needs to do to get \n",
    "the total number of messages sent for a certain time period."
   ]
  },
  {
   "cell_type": "code",
   "execution_count": null,
   "metadata": {},
   "outputs": [],
   "source": []
  },
  {
   "cell_type": "markdown",
   "metadata": {},
   "source": [
    "#### Communications Table"
   ]
  },
  {
   "cell_type": "markdown",
   "metadata": {},
   "source": [
    "##### New"
   ]
  },
  {
   "cell_type": "code",
   "execution_count": null,
   "metadata": {},
   "outputs": [
    {
     "data": {
      "text/plain": [
       "<cassandra.cluster.ResultSet at 0x104e95ca0>"
      ]
     },
     "execution_count": 3,
     "metadata": {},
     "output_type": "execute_result"
    }
   ],
   "source": [
    "#\n",
    "# Communications Table\n",
    "#\n",
    "session.execute(\n",
    "    \"\"\"\n",
    "    CREATE TABLE IF NOT EXISTS communication_data (\n",
    "        comm_id text,\n",
    "        comm_datetime timestamp,\n",
    "        request_date date,\n",
    "        activity text,\n",
    "        category text,\n",
    "        channel text,\n",
    "        customer_id text,\n",
    "        PRIMARY KEY (comm_id)\n",
    "        ) WITH default_time_to_live = 7776000;\n",
    "    \"\"\"\n",
    ")"
   ]
  },
  {
   "cell_type": "markdown",
   "metadata": {},
   "source": [
    "##### Old"
   ]
  },
  {
   "cell_type": "code",
   "execution_count": null,
   "metadata": {},
   "outputs": [
    {
     "data": {
      "text/plain": [
       "<cassandra.cluster.ResultSet at 0x106fdba40>"
      ]
     },
     "metadata": {},
     "output_type": "display_data"
    }
   ],
   "source": [
    "#\n",
    "# Communications Table\n",
    "#\n",
    "session.execute(\n",
    "    \"\"\"\n",
    "    CREATE TABLE IF NOT EXISTS communications (\n",
    "    communication_id UUID, \n",
    "    comm_datetime TIMESTAMP,\n",
    "    customer_id UUID, \n",
    "    channel TEXT, \n",
    "    category_group TEXT, \n",
    "    category TEXT, \n",
    "    activity_name TEXT, \n",
    "    PRIMARY KEY ((communication_id), comm_datetime) );\n",
    "    \"\"\"\n",
    ")"
   ]
  },
  {
   "cell_type": "markdown",
   "metadata": {},
   "source": [
    "#### Event by Day Table"
   ]
  },
  {
   "cell_type": "code",
   "execution_count": null,
   "metadata": {},
   "outputs": [
    {
     "data": {
      "text/plain": [
       "<cassandra.cluster.ResultSet at 0x1066f96d0>"
      ]
     },
     "execution_count": 12,
     "metadata": {},
     "output_type": "execute_result"
    }
   ],
   "source": [
    "#\n",
    "# EVENTS TABLE\n",
    "#\n",
    "session.execute(\n",
    "    \"\"\"\n",
    "    CREATE TABLE IF NOT EXISTS events_by_day (\n",
    "        cap_date int,\n",
    "        cap_type text,\n",
    "        cap_action text,\n",
    "        PRIMARY KEY (cap_date, cap_type, cap_action)\n",
    "    );\n",
    "    \"\"\"\n",
    ")"
   ]
  },
  {
   "cell_type": "markdown",
   "metadata": {},
   "source": [
    "#### PROFILECAP"
   ]
  },
  {
   "cell_type": "markdown",
   "metadata": {},
   "source": [
    "##### New"
   ]
  },
  {
   "cell_type": "code",
   "execution_count": null,
   "metadata": {},
   "outputs": [
    {
     "data": {
      "text/plain": [
       "<cassandra.cluster.ResultSet at 0x106699ac0>"
      ]
     },
     "execution_count": 11,
     "metadata": {},
     "output_type": "execute_result"
    }
   ],
   "source": [
    "#\n",
    "# Communications by Customer and Channel\n",
    "#\n",
    "# This table will store the number of messages sent on every day in a given year \n",
    "# for a given customer, channel, and month.\n",
    "# The number of messages sent per day per customer channel is assumed to be less than 100. \n",
    "# - comm_month: the month a message is sent to the client channel in the format YYYYMM.\n",
    "# - comm_day: the day in the month a message is sent to the client channel in the format DD.\n",
    "# 90 Day TTL\n",
    "#\n",
    "session.execute(\n",
    "    \"\"\"\n",
    "    CREATE TABLE IF NOT EXISTS profilecap_month (\n",
    "        customer_id text,\n",
    "        channel text,\n",
    "        comm_month int,\n",
    "        comm_day int,\n",
    "        communication_id text,\n",
    "        PRIMARY KEY ((customer_id, channel, comm_month), comm_day, communication_id)\n",
    "    ) WITH CLUSTERING ORDER BY (comm_day DESC) AND default_time_to_live = 7776000;\n",
    "    \"\"\"\n",
    ")"
   ]
  },
  {
   "cell_type": "markdown",
   "metadata": {},
   "source": [
    "##### Old"
   ]
  },
  {
   "cell_type": "code",
   "execution_count": null,
   "metadata": {},
   "outputs": [],
   "source": [
    "#\n",
    "# Communications by Customer and Channel\n",
    "#\n",
    "# This table will store the number of messages sent in a day for a given customer_id and channel.\n",
    "#\n",
    "session.execute(\n",
    "    \"\"\"\n",
    "    CREATE TABLE IF NOT EXISTS profilecap_day (\n",
    "        customer_id text,\n",
    "        channel text,\n",
    "        comm_date int, \n",
    "        comm_time int, \n",
    "        comm_offset_time int static,\n",
    "        comm_offset_count int static,\n",
    "        PRIMARY KEY ((customer_id, channel, comm_date), comm_time)\n",
    "    ) WITH CLUSTERING ORDER BY (comm_time DESC) AND default_time_to_live = 604800;\n",
    "    \"\"\"\n",
    ")\n",
    "\n",
    "#\n",
    "# This table will store the number of messages sent on every day in a given year for a given customer_id and channel.\n",
    "#\n",
    "session.execute(\n",
    "    \"\"\"\n",
    "    CREATE TABLE IF NOT EXISTS profilecap_week (\n",
    "        customer_id text,\n",
    "        channel text,\n",
    "        comm_date int,\n",
    "        comm_count int,\n",
    "        PRIMARY KEY ((customer_id,channel), comm_date)\n",
    "    ) WITH CLUSTERING ORDER BY (comm_date DESC) AND default_time_to_live = 7776000;\n",
    "    \"\"\"\n",
    ")"
   ]
  },
  {
   "cell_type": "markdown",
   "metadata": {},
   "source": [
    "#### ACTYCAP"
   ]
  },
  {
   "cell_type": "code",
   "execution_count": null,
   "metadata": {},
   "outputs": [
    {
     "data": {
      "text/plain": [
       "<cassandra.cluster.ResultSet at 0x106756e40>"
      ]
     },
     "execution_count": 8,
     "metadata": {},
     "output_type": "execute_result"
    }
   ],
   "source": [
    "#\n",
    "# Communications by Activity\n",
    "#\n",
    "# This table will store the number of messages sent in a day for a given activity.\n",
    "# 7 day TTL\n",
    "#\n",
    "session.execute(\n",
    "    \"\"\"\n",
    "    CREATE TABLE IF NOT EXISTS actycap_day (\n",
    "        activity text,\n",
    "        comm_date int, \n",
    "        comm_time int, \n",
    "        comm_offset_time int static,\n",
    "        comm_offset_count int static,\n",
    "        PRIMARY KEY ((activity, comm_date), comm_time)\n",
    "    ) WITH CLUSTERING ORDER BY (comm_time DESC) AND default_time_to_live = 604800;\n",
    "    \"\"\"\n",
    ")\n",
    "\n",
    "#\n",
    "# This table will store the number of messages sent on every day in a given year for a given activity.\n",
    "# 90 day TTL\n",
    "#\n",
    "session.execute(\n",
    "    \"\"\"\n",
    "    CREATE TABLE IF NOT EXISTS actycap_week (\n",
    "        activity text,\n",
    "        comm_date int,\n",
    "        comm_count int,\n",
    "        PRIMARY KEY ((activity), comm_date)\n",
    "    ) WITH CLUSTERING ORDER BY (comm_date DESC) AND default_time_to_live = 7776000;\n",
    "    \"\"\"\n",
    ")"
   ]
  },
  {
   "cell_type": "markdown",
   "metadata": {},
   "source": [
    "#### PRTYCAP"
   ]
  },
  {
   "cell_type": "code",
   "execution_count": 9,
   "metadata": {},
   "outputs": [
    {
     "data": {
      "text/plain": [
       "<cassandra.cluster.ResultSet at 0x106678980>"
      ]
     },
     "execution_count": 9,
     "metadata": {},
     "output_type": "execute_result"
    }
   ],
   "source": [
    "#\n",
    "# Communications by category_group and category\n",
    "#\n",
    "# This table will store the number of messages sent in a day for a given category_group and category.\n",
    "#\n",
    "session.execute(\n",
    "    \"\"\"\n",
    "    CREATE TABLE IF NOT EXISTS prtycap_day (\n",
    "        category_group TEXT,\n",
    "        category TEXT,\n",
    "        comm_date int, \n",
    "        comm_time int, \n",
    "        comm_offset_time int static,\n",
    "        comm_offset_count int static,\n",
    "        PRIMARY KEY ((category_group, category, comm_date), comm_time)\n",
    "    ) WITH CLUSTERING ORDER BY (comm_time DESC) AND default_time_to_live = 604800;\n",
    "    \"\"\"\n",
    ")\n",
    "\n",
    "#\n",
    "# This table will store the number of messages sent on every day in a given year for a given category_group and category.\n",
    "#\n",
    "session.execute(\n",
    "    \"\"\"\n",
    "    CREATE TABLE IF NOT EXISTS prtycap_week (\n",
    "        category_group TEXT,\n",
    "        category TEXT,\n",
    "        comm_date int,\n",
    "        comm_count int,\n",
    "        PRIMARY KEY ((category_group, category), comm_date)\n",
    "    ) WITH CLUSTERING ORDER BY (comm_date DESC) AND default_time_to_live = 7776000;\n",
    "    \"\"\"\n",
    ")"
   ]
  },
  {
   "cell_type": "markdown",
   "metadata": {},
   "source": [
    "#### CHANNELCAP"
   ]
  },
  {
   "cell_type": "code",
   "execution_count": 10,
   "metadata": {},
   "outputs": [
    {
     "data": {
      "text/plain": [
       "<cassandra.cluster.ResultSet at 0x1067559a0>"
      ]
     },
     "execution_count": 10,
     "metadata": {},
     "output_type": "execute_result"
    }
   ],
   "source": [
    "#\n",
    "# Communications by Channel\n",
    "#\n",
    "# This table will store the number of messages sent in a day for a given channel.\n",
    "#\n",
    "session.execute(\n",
    "    \"\"\"\n",
    "    CREATE TABLE IF NOT EXISTS channelcap_day (\n",
    "        channel text,\n",
    "        comm_date int, \n",
    "        comm_time int, \n",
    "        comm_offset_time int static,\n",
    "        comm_offset_count int static,\n",
    "        PRIMARY KEY ((channel, comm_date), comm_time)\n",
    "    ) WITH CLUSTERING ORDER BY (comm_time DESC) AND default_time_to_live = 604800;\n",
    "    \"\"\"\n",
    ")\n",
    "\n",
    "#\n",
    "# This table will store the number of messages sent on every day in a given year for a given activity.\n",
    "#\n",
    "session.execute(\n",
    "    \"\"\"\n",
    "    CREATE TABLE IF NOT EXISTS channelcap_week (\n",
    "        channel text,\n",
    "        comm_date int,\n",
    "        comm_count int,\n",
    "        PRIMARY KEY ((channel), comm_date)\n",
    "    ) WITH CLUSTERING ORDER BY (comm_date DESC) AND default_time_to_live = 7776000;\n",
    "    \"\"\"\n",
    ")"
   ]
  },
  {
   "cell_type": "markdown",
   "metadata": {},
   "source": [
    "### DailyCounts Trigger"
   ]
  },
  {
   "cell_type": "code",
   "execution_count": null,
   "metadata": {},
   "outputs": [],
   "source": [
    "session.execute(\n",
    "    \"\"\"\n",
    "    CREATE TABLE IF NOT EXISTS dailycounts_trigger (\n",
    "        trigger_datetime timestamp,\n",
    "        comm_date int,\n",
    "        PRIMARY KEY (trigger_datetime)\n",
    "    )\n",
    "    \"\"\"\n",
    ")"
   ]
  },
  {
   "cell_type": "markdown",
   "metadata": {},
   "source": [
    "## Drop Schema"
   ]
  },
  {
   "cell_type": "code",
   "execution_count": 2,
   "metadata": {},
   "outputs": [
    {
     "data": {
      "text/plain": [
       "<cassandra.cluster.ResultSet at 0x105066240>"
      ]
     },
     "execution_count": 2,
     "metadata": {},
     "output_type": "execute_result"
    }
   ],
   "source": [
    "session.execute(\"DROP TABLE IF EXISTS communications\")\n",
    "session.execute(\"DROP TABLE IF EXISTS cap_state\")\n",
    "\n",
    "session.execute(\"DROP TABLE IF EXISTS profilecap_day\")\n",
    "session.execute(\"DROP TABLE IF EXISTS profilecap_week\")\n",
    "session.execute(\"DROP TABLE IF EXISTS profilecap_month\")\n",
    "\n",
    "session.execute(\"DROP TABLE IF EXISTS actycap_day\")\n",
    "session.execute(\"DROP TABLE IF EXISTS actycap_week\")\n",
    "\n",
    "session.execute(\"DROP TABLE IF EXISTS prtycap_day\")\n",
    "session.execute(\"DROP TABLE IF EXISTS prtycap_week\")\n",
    "\n",
    "session.execute(\"DROP TABLE IF EXISTS channelcap_day\")\n",
    "session.execute(\"DROP TABLE IF EXISTS channelcap_week\")"
   ]
  },
  {
   "cell_type": "markdown",
   "metadata": {},
   "source": [
    "## Cleanup"
   ]
  },
  {
   "cell_type": "code",
   "execution_count": 4,
   "metadata": {},
   "outputs": [],
   "source": [
    "session.shutdown()"
   ]
  },
  {
   "cell_type": "markdown",
   "metadata": {},
   "source": []
  }
 ],
 "metadata": {
  "kernelspec": {
   "display_name": "env_vectorgraph",
   "language": "python",
   "name": "python3"
  },
  "language_info": {
   "codemirror_mode": {
    "name": "ipython",
    "version": 3
   },
   "file_extension": ".py",
   "mimetype": "text/x-python",
   "name": "python",
   "nbconvert_exporter": "python",
   "pygments_lexer": "ipython3",
   "version": "3.12.9"
  }
 },
 "nbformat": 4,
 "nbformat_minor": 2
}
