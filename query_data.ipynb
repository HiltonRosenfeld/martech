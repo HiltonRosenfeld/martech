{
 "cells": [
  {
   "cell_type": "markdown",
   "metadata": {},
   "source": [
    "# Martech - Query Data"
   ]
  },
  {
   "cell_type": "markdown",
   "metadata": {},
   "source": [
    "## Initialise Connection"
   ]
  },
  {
   "cell_type": "code",
   "execution_count": 1,
   "metadata": {},
   "outputs": [],
   "source": [
    "from datetime import datetime\n",
    "from astra_db import AstraSession\n",
    "from state import OffsetState as offsetstate\n",
    "\n",
    "astra = AstraSession()"
   ]
  },
  {
   "cell_type": "code",
   "execution_count": 2,
   "metadata": {},
   "outputs": [],
   "source": [
    "# Prepare Statements\n",
    "\n",
    "# comm_by_activity_day\n",
    "get_acty_cap_stmt = astra.session.prepare(\"\"\"SELECT comm_time, comm_offset_time, comm_offset_count \n",
    "                                          FROM actycap_day WHERE \n",
    "                                          activity = ? AND comm_date = ? AND comm_time > ?\"\"\")\n",
    "\n",
    "update_acty_cap_stmt = astra.session.prepare(\"\"\"UPDATE actycap_day\n",
    "                                             SET comm_offset_time = ?, comm_offset_count = ? \n",
    "                                             WHERE activity = ? AND comm_date = ?\"\"\")\n",
    "# comm_by_activity_week\n",
    "get_acty_cap_week_stmt = astra.session.prepare(\"\"\"SELECT comm_count FROM actycap_week WHERE \n",
    "                                          activity = ? AND comm_date >= ? AND comm_date <= ?\"\"\")"
   ]
  },
  {
   "cell_type": "markdown",
   "metadata": {},
   "source": [
    "## Define Entities"
   ]
  },
  {
   "cell_type": "code",
   "execution_count": 3,
   "metadata": {},
   "outputs": [],
   "source": [
    "# Define Entities\n",
    "\n",
    "# customer_id\n",
    "customer_id_array = [\n",
    "    '0b6ec30f-8b1a-406f-82f6-89222a017449',\n",
    "    '8435a9b9-9e88-495c-a297-dfd25d44428b',\n",
    "    '8e12d570-e47d-43b9-9435-b2020899860b',\n",
    "    '9e53cd14-0316-46ff-b913-30228fcc5b73',\n",
    "    'a6e198e0-674d-4a27-ba01-595a78fda2ef',\n",
    "    'af9e65bd-4474-40c9-8d16-7b82035d3e0f',\n",
    "    'b191cef3-4624-4e88-9a93-73de506e4be7',\n",
    "    'bcabe5dd-8675-4a88-94ed-a9faa9473355',\n",
    "    'cf3a5d68-e66f-4ee7-a2d1-2666c5366540',\n",
    "    'f68e8bc9-86b7-4c8e-ba74-87d31d27a531',\n",
    "    'bcabe5dd-8675-4a88-94ed-a9faa9473355',\n",
    "]\n",
    "\n",
    "# channel\n",
    "channel_array = ['email', 'sms', 'push', 'in-app', 'direct']\n",
    "\n",
    "# category_group\n",
    "category_group_array = ['ctgy_grp_1', 'ctgy_grp_2', 'ctgy_grp_3', 'ctgy_grp_4', 'ctgy_grp_5']\n",
    "\n",
    "# category\n",
    "category_array = ['ctgy_1', 'ctgy_2', 'ctgy_3', 'ctgy_4', 'ctgy_5']\n",
    "\n",
    "# activity\n",
    "activity_array = ['credit_card', 'mortgage', 'business', 'retail', 'investment']"
   ]
  },
  {
   "cell_type": "markdown",
   "metadata": {},
   "source": [
    "## Query Data"
   ]
  },
  {
   "cell_type": "code",
   "execution_count": 4,
   "metadata": {},
   "outputs": [],
   "source": [
    "cap_name = 'actycap'\n",
    "activity = 'business'"
   ]
  },
  {
   "cell_type": "markdown",
   "metadata": {},
   "source": [
    "### Daily"
   ]
  },
  {
   "cell_type": "markdown",
   "metadata": {},
   "source": [
    "#### Query"
   ]
  },
  {
   "cell_type": "code",
   "execution_count": 6,
   "metadata": {},
   "outputs": [
    {
     "name": "stdout",
     "output_type": "stream",
     "text": [
      "Total Count: 3,  Row Count: 3\n"
     ]
    }
   ],
   "source": [
    "# Communications by Activity Day\n",
    "# SELECT comm_time, comm_offset_time, comm_offset_count FROM comm_by_activity_day \n",
    "# WHERE activity = ? AND comm_date = ? AND comm_time > ?\n",
    "\n",
    "#\n",
    "# To get the total count, we add comm_offset_count to the number of rows returned\n",
    "\n",
    "\n",
    "# Set the current day and time buckets\n",
    "date = datetime.now()\n",
    "current_date = int(date.strftime('%Y%m%d')) # bucket by day\n",
    "current_time = int(date.strftime('%H%M%S%f')[:8]) # format time as HHMMSSssss\n",
    "\n",
    "# Read stored state values for activity from JSON file named state.json\n",
    "(comm_offset_time, comm_offset_count) = offsetstate.get_state(cap_name, activity)\n",
    "\n",
    "rows = astra.session.execute(get_acty_cap_stmt, [activity, current_date, comm_offset_time ])\n",
    "# test if query returned any rows\n",
    "if not rows:\n",
    "    print(\"No rows returned\")\n",
    "    row_count = 0\n",
    "    total_comm_count = comm_offset_count\n",
    "else:\n",
    "    comm_offset_time = rows[0].comm_offset_time or 0\n",
    "    comm_offset_count = rows[0].comm_offset_count or 0\n",
    "    comm_time = rows[0].comm_time or 0\n",
    "    row_count = sum(1 for _ in rows)  # Count rows\n",
    "    total_comm_count = comm_offset_count + row_count\n",
    "\n",
    "print(f\"Total Count: {total_comm_count},  Row Count: {row_count}\")\n",
    "#print(f\"Comm Time Bucket: {current_time}  Offset Time: { comm_offset_time}  Offset Count: {comm_offset_count}\")"
   ]
  },
  {
   "cell_type": "markdown",
   "metadata": {},
   "source": [
    "#### Update"
   ]
  },
  {
   "cell_type": "code",
   "execution_count": null,
   "metadata": {},
   "outputs": [],
   "source": [
    "# Update - Communications by Activity Day\n",
    "# SET comm_offset_time = ?, comm_offset_count = ? WHERE activity = ? AND comm_date = ?\n",
    "#\n",
    "# comm_offset_time will be the last comm_time value read\n",
    "# comm_offset_count will be the number of comm_time values counted up to that time.\n",
    "\n",
    "rows = astra.session.execute(update_acty_cap_stmt, [comm_time, total_comm_count, activity, current_date])\n",
    "\n",
    "# Store State for next run\n",
    "offsetstate.set_state(cap_name, activity, comm_time, total_comm_count)"
   ]
  },
  {
   "cell_type": "markdown",
   "metadata": {},
   "source": [
    "### Weekly"
   ]
  },
  {
   "cell_type": "code",
   "execution_count": null,
   "metadata": {},
   "outputs": [],
   "source": [
    "activity = 'business'\n",
    "start_date = 20250303\n",
    "end_date = 20250310\n",
    "\n",
    "rows = astra.session.execute(get_acty_cap_week_stmt, [activity, start_date, end_date])\n",
    "\n",
    "if not rows:\n",
    "    print(\"No rows returned\")\n",
    "    count = 0\n",
    "else:\n",
    "    count = sum(row.comm_count for row in rows)\n",
    "\n",
    "print(f\"Count: {count}\")"
   ]
  },
  {
   "cell_type": "markdown",
   "metadata": {},
   "source": [
    "## Generate Daily Summaries"
   ]
  },
  {
   "cell_type": "code",
   "execution_count": null,
   "metadata": {},
   "outputs": [],
   "source": [
    "current_date = 20250305\n",
    "\n",
    "activity_array = ['business']\n",
    "for activity in activity_array:\n",
    "    rows = astra.session.execute(f\"SELECT comm_time, comm_offset_time, comm_offset_count FROM actycap_day WHERE \\\n",
    "                                activity = '{activity}' AND comm_date = {current_date}\")\n",
    "    if not rows:\n",
    "        print(\"No rows returned\")\n",
    "        row_count = 0\n",
    "        continue\n",
    "    else:\n",
    "        row_count = sum(1 for _ in rows)  # Count rows\n",
    "\n",
    "    print(f\"Activity: {activity} Row Count: {row_count}\")\n",
    "\n",
    "    # Insert summary data for the day\n",
    "    #    activity text,\n",
    "    #    comm_date int,\n",
    "    #    comm_count int,\n",
    "\n",
    "    astra.session.execute(f\"INSERT INTO actycap_week (activity, comm_date, comm_count) \\\n",
    "                        VALUES ('{activity}', {current_date}, {row_count})\")"
   ]
  },
  {
   "cell_type": "markdown",
   "metadata": {},
   "source": [
    "## Cleanup"
   ]
  },
  {
   "cell_type": "code",
   "execution_count": 7,
   "metadata": {},
   "outputs": [],
   "source": [
    "astra.shutdown()"
   ]
  },
  {
   "cell_type": "code",
   "execution_count": null,
   "metadata": {},
   "outputs": [],
   "source": []
  }
 ],
 "metadata": {
  "kernelspec": {
   "display_name": "env_vectorgraph",
   "language": "python",
   "name": "python3"
  },
  "language_info": {
   "codemirror_mode": {
    "name": "ipython",
    "version": 3
   },
   "file_extension": ".py",
   "mimetype": "text/x-python",
   "name": "python",
   "nbconvert_exporter": "python",
   "pygments_lexer": "ipython3",
   "version": "3.12.5"
  }
 },
 "nbformat": 4,
 "nbformat_minor": 2
}
