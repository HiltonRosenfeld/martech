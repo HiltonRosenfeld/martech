{
 "cells": [
  {
   "cell_type": "markdown",
   "metadata": {},
   "source": [
    "# Martech - Query Data"
   ]
  },
  {
   "cell_type": "markdown",
   "metadata": {},
   "source": [
    "## Initialise Connection"
   ]
  },
  {
   "cell_type": "code",
   "execution_count": 31,
   "metadata": {},
   "outputs": [],
   "source": [
    "from astra_db import AstraSession\n",
    "\n",
    "session = AstraSession().session"
   ]
  },
  {
   "cell_type": "markdown",
   "metadata": {},
   "source": [
    "## Define Prepared Statements"
   ]
  },
  {
   "cell_type": "markdown",
   "metadata": {},
   "source": [
    "### PROFILECAP"
   ]
  },
  {
   "cell_type": "code",
   "execution_count": 32,
   "metadata": {},
   "outputs": [],
   "source": [
    "# PROFILECAP\n",
    "get_profile_cap_stmt = session.prepare(\"SELECT sum(count) from profile_cap WHERE customer_id=? and channel=? AND comm_date_bucket > ? AND comm_date_bucket < ?\")"
   ]
  },
  {
   "cell_type": "markdown",
   "metadata": {},
   "source": [
    "### ACTYCAP"
   ]
  },
  {
   "cell_type": "code",
   "execution_count": 33,
   "metadata": {},
   "outputs": [],
   "source": [
    "# ACTYCAP\n",
    "\n",
    "get_acty_cap_stmt = session.prepare(\"SELECT sum(count) from acty_cap WHERE activity_name=? AND comm_date_bucket > ? AND comm_date_bucket < ?\")"
   ]
  },
  {
   "cell_type": "markdown",
   "metadata": {},
   "source": [
    "### PRTYCAP"
   ]
  },
  {
   "cell_type": "code",
   "execution_count": 34,
   "metadata": {},
   "outputs": [],
   "source": [
    "# PRTYCAP\n",
    "get_prty_cap_stmt = session.prepare(\"SELECT sum(count) from prty_cap WHERE category_group = ? AND category = ? AND comm_date_bucket > ? AND comm_date_bucket < ?\")"
   ]
  },
  {
   "cell_type": "markdown",
   "metadata": {},
   "source": [
    "### CHANNELCAP"
   ]
  },
  {
   "cell_type": "code",
   "execution_count": 35,
   "metadata": {},
   "outputs": [],
   "source": [
    "# CHANNELCAP\n",
    "get_channel_cap_stmt = session.prepare(\"SELECT sum(count) from channel_cap WHERE channel=? AND comm_date_bucket > ? AND comm_date_bucket < ?\")"
   ]
  },
  {
   "cell_type": "markdown",
   "metadata": {},
   "source": [
    "## Define Entities"
   ]
  },
  {
   "cell_type": "code",
   "execution_count": 37,
   "metadata": {},
   "outputs": [],
   "source": [
    "# Define Entities\n",
    "\n",
    "# customer_id\n",
    "customer_id_array = [\n",
    "    '0b6ec30f-8b1a-406f-82f6-89222a017449',\n",
    "    '8435a9b9-9e88-495c-a297-dfd25d44428b',\n",
    "    '8e12d570-e47d-43b9-9435-b2020899860b',\n",
    "    '9e53cd14-0316-46ff-b913-30228fcc5b73',\n",
    "    'a6e198e0-674d-4a27-ba01-595a78fda2ef',\n",
    "    'af9e65bd-4474-40c9-8d16-7b82035d3e0f',\n",
    "    'b191cef3-4624-4e88-9a93-73de506e4be7',\n",
    "    'bcabe5dd-8675-4a88-94ed-a9faa9473355',\n",
    "    'cf3a5d68-e66f-4ee7-a2d1-2666c5366540',\n",
    "    'f68e8bc9-86b7-4c8e-ba74-87d31d27a531',\n",
    "    'bcabe5dd-8675-4a88-94ed-a9faa9473355',\n",
    "]\n",
    "\n",
    "# channel\n",
    "channel_array = ['email', 'sms', 'push', 'in-app', 'direct']\n",
    "\n",
    "# category_group\n",
    "category_group_array = ['ctgy_grp_1', 'ctgy_grp_2', 'ctgy_grp_3', 'ctgy_grp_4', 'ctgy_grp_5']\n",
    "\n",
    "# category\n",
    "category_array = ['ctgy_1', 'ctgy_2', 'ctgy_3', 'ctgy_4', 'ctgy_5']\n",
    "\n",
    "# activity_name\n",
    "activity_name_array = ['credit_card', 'mortgage', 'business', 'retail', 'investment']"
   ]
  },
  {
   "cell_type": "markdown",
   "metadata": {},
   "source": [
    "## Query Data"
   ]
  },
  {
   "cell_type": "code",
   "execution_count": 38,
   "metadata": {},
   "outputs": [],
   "source": [
    "start_date = '2024120100'\n",
    "end_date = '2024123123'"
   ]
  },
  {
   "cell_type": "markdown",
   "metadata": {},
   "source": [
    "### PROFILECAP"
   ]
  },
  {
   "cell_type": "code",
   "execution_count": 43,
   "metadata": {},
   "outputs": [
    {
     "name": "stdout",
     "output_type": "stream",
     "text": [
      "813\n"
     ]
    }
   ],
   "source": [
    "# comm_date_bucket - yyyymmddhh - 2024120100\n",
    "rows = session.execute(get_profile_cap_stmt, [customer_id_array[0], 'email', start_date, end_date])\n",
    "print(rows[0].system_sum_count)"
   ]
  },
  {
   "cell_type": "markdown",
   "metadata": {},
   "source": [
    "### ACTYCAP"
   ]
  },
  {
   "cell_type": "code",
   "execution_count": 44,
   "metadata": {},
   "outputs": [
    {
     "name": "stdout",
     "output_type": "stream",
     "text": [
      "7924\n"
     ]
    }
   ],
   "source": [
    "# comm_date_bucket - yyyymmddhh - 2024120100\n",
    "rows = session.execute(get_acty_cap_stmt, ['credit_card', start_date, end_date])\n",
    "print(rows[0].system_sum_count)"
   ]
  },
  {
   "cell_type": "markdown",
   "metadata": {},
   "source": [
    "### PRTYCAP"
   ]
  },
  {
   "cell_type": "code",
   "execution_count": 45,
   "metadata": {},
   "outputs": [
    {
     "name": "stdout",
     "output_type": "stream",
     "text": [
      "1618\n"
     ]
    }
   ],
   "source": [
    "# comm_date_bucket - yyyymmddhh - 2024120100\n",
    "rows = session.execute(get_prty_cap_stmt, ['ctgy_grp_1', 'ctgy_1', start_date, end_date])\n",
    "print(rows[0].system_sum_count)"
   ]
  },
  {
   "cell_type": "markdown",
   "metadata": {},
   "source": [
    "### CHANNELCAP"
   ]
  },
  {
   "cell_type": "code",
   "execution_count": 46,
   "metadata": {},
   "outputs": [
    {
     "name": "stdout",
     "output_type": "stream",
     "text": [
      "8098\n"
     ]
    }
   ],
   "source": [
    "# comm_date_bucket - yyyymmddhh - 2024120100\n",
    "rows = session.execute(get_channel_cap_stmt, ['email', start_date, end_date])\n",
    "print(rows[0].system_sum_count)"
   ]
  }
 ],
 "metadata": {
  "kernelspec": {
   "display_name": "env_vectorgraph",
   "language": "python",
   "name": "python3"
  },
  "language_info": {
   "codemirror_mode": {
    "name": "ipython",
    "version": 3
   },
   "file_extension": ".py",
   "mimetype": "text/x-python",
   "name": "python",
   "nbconvert_exporter": "python",
   "pygments_lexer": "ipython3",
   "version": "3.12.5"
  }
 },
 "nbformat": 4,
 "nbformat_minor": 2
}
